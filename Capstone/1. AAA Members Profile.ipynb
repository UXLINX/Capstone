{
 "cells": [
  {
   "cell_type": "code",
   "execution_count": 1,
   "metadata": {},
   "outputs": [
    {
     "name": "stderr",
     "output_type": "stream",
     "text": [
      "C:\\ProgramData\\Anaconda3\\lib\\site-packages\\sklearn\\ensemble\\weight_boosting.py:29: DeprecationWarning: numpy.core.umath_tests is an internal NumPy module and should not be imported. It will be removed in a future NumPy release.\n",
      "  from numpy.core.umath_tests import inner1d\n"
     ]
    }
   ],
   "source": [
    "# import numpy and pandas\n",
    "import numpy as np\n",
    "import pandas as pd\n",
    "from sklearn.model_selection import train_test_split\n",
    "from sklearn.ensemble import RandomForestClassifier\n",
    "from sklearn import datasets\n",
    "from sklearn.feature_selection import SelectFromModel\n",
    "from sklearn.metrics import accuracy_score\n",
    "\n",
    "# used for dates\n",
    "import datetime\n",
    "from datetime import datetime, date\n",
    "\n",
    "# Set some pandas options controlling output format\n",
    "pd.set_option('display.notebook_repr_html', False)\n",
    "pd.set_option('display.max_columns', 8)\n",
    "pd.set_option('display.max_rows', 100)\n",
    "pd.set_option('display.width', 90)\n",
    "\n",
    "# bring in matplotlib for graphics\n",
    "import matplotlib.pyplot as plt\n",
    "%matplotlib inline"
   ]
  },
  {
   "cell_type": "code",
   "execution_count": 2,
   "metadata": {},
   "outputs": [
    {
     "data": {
      "text/plain": [
       "Index(['Household_Key', 'Individual_Key', 'City', 'State_Grouped', 'ZIP5', 'ZIP9',\n",
       "       'FSV_CMSI_Flag', 'FSV_Credit_Card_Flag', 'FSV_Deposit_Program_Flag',\n",
       "       'FSV_Home_Equity_Flag', 'FSV_ID_Theft_Flag', 'FSV_Mortgage_Flag',\n",
       "       'INS_Client_Flag', 'TRV_Globalware_Flag', 'Number_of_Children',\n",
       "       'Responded_to_Catalog', 'Race', 'Length_Of_Residence', 'Mail_Responder',\n",
       "       'Home_Owner', 'Income', 'Date_Of_Birth', 'Age', 'Children', 'Education',\n",
       "       'Dwelling_Type', 'Credit_Ranges', 'Language', 'Gender', 'Branch_Name', 'County',\n",
       "       'Join_AAA_Date', 'Member_Phone_Type', 'Member_Status', 'Member_Tenure_Years',\n",
       "       'Member_Type', 'Reinstate_Date', 'Renew_Method', 'ZIP', 'Mosaic_Household',\n",
       "       'Mosaic_Global_Household', 'kcl_B_IND_MosaicsGrouping', 'New_Mover_Flag',\n",
       "       'Occupation_Code', 'Occupation_Group', 'Right_Dwelling_Type', 'Move_Distance',\n",
       "       'Occupant_Type', 'Membership_Level', 'Roadside_Service', '_memeber_count',\n",
       "       '_service_cnt', '_total_cost', '_total_products', '_ERS_ENT_Count_Year_1',\n",
       "       '_ERS_ENT_Count_Year_2', '_ERS_ENT_Count_Year_3', '_ERS_Member_Cost_Year_1',\n",
       "       '_ERS_Member_Cost_Year_2', '_ERS_Member_Cost_Year_3'],\n",
       "      dtype='object')"
      ]
     },
     "execution_count": 2,
     "metadata": {},
     "output_type": "execute_result"
    }
   ],
   "source": [
    "br = '\\n'\n",
    "f = 'data/AAA_household_profile_cost.csv'\n",
    "AAA = pd.read_csv(f)\n",
    "AAA.columns"
   ]
  },
  {
   "cell_type": "code",
   "execution_count": 3,
   "metadata": {},
   "outputs": [],
   "source": [
    "# update the columns values:\n",
    "\n",
    "AAA.Home_Owner.replace(['Home Owner', 'Probable Renter', 'Probable Home Owner'], \\\n",
    "                          ['Home.Owner', 'Probable.Renter', 'Probable.Home.Owner'], inplace=True)\n",
    "\n",
    "AAA.Credit_Ranges.replace(['499 & Less'], ['499.Less'], inplace=True)\n",
    "\n",
    "AAA.Dwelling_Type.replace(['Large multi-family w/o apt number'], ['Large.multi.family'], inplace=True)\n",
    "AAA.Dwelling_Type.replace(['Small or large multi-family w/apt number'], ['Small.or.large.multi.family'], inplace=True)\n",
    "AAA.Dwelling_Type.replace(['P.O. BOX'], ['P.O.BOX'], inplace=True)\n",
    "\n",
    "AAA.Education.replace(['Completed College'], ['Completed.College'],inplace=True)\n",
    "AAA.Education.replace(['Graduated School'], ['Graduated.School'],inplace=True)\n",
    "AAA.Education.replace(['High School'], ['High.School'],inplace=True)\n",
    "AAA.Education.replace(['Some College'], ['Some.College'],inplace=True)"
   ]
  },
  {
   "cell_type": "code",
   "execution_count": 4,
   "metadata": {},
   "outputs": [],
   "source": [
    "# exclude this individual ( outlier) not Active Member\n",
    "# sample = AAA[AAA['Individual_Key'] == 202825559 ]\n",
    "# sample[['Individual_Key', 'Age', 'Member_Status', '_service_cnt', '_total_cost']].transpose()"
   ]
  },
  {
   "cell_type": "code",
   "execution_count": 5,
   "metadata": {},
   "outputs": [],
   "source": [
    "xlist = AAA.columns.tolist()\n",
    "#xlist"
   ]
  },
  {
   "cell_type": "code",
   "execution_count": 6,
   "metadata": {},
   "outputs": [],
   "source": [
    "df_fmt = AAA.copy()"
   ]
  },
  {
   "cell_type": "code",
   "execution_count": 7,
   "metadata": {},
   "outputs": [
    {
     "name": "stdout",
     "output_type": "stream",
     "text": [
      "average age: 75.66800535475234\n",
      "median age: 75.0\n"
     ]
    }
   ],
   "source": [
    "# analysis age data\n",
    "df_age = df_fmt[df_fmt['Age'].notnull()]\n",
    "avg_age = df_age['Age']\n",
    "print(\"average age:\", avg_age.mean())\n",
    "print(\"median age:\", avg_age.median())"
   ]
  },
  {
   "cell_type": "code",
   "execution_count": 8,
   "metadata": {},
   "outputs": [
    {
     "data": {
      "text/plain": [
       "False    3219\n",
       "Name: Member_Tenure_Years, dtype: int64"
      ]
     },
     "execution_count": 8,
     "metadata": {},
     "output_type": "execute_result"
    }
   ],
   "source": [
    "df_fmt['Member_Tenure_Years'].isnull().value_counts()"
   ]
  },
  {
   "cell_type": "code",
   "execution_count": 9,
   "metadata": {},
   "outputs": [
    {
     "data": {
      "text/plain": [
       "Empty DataFrame\n",
       "Columns: [Household_Key, Individual_Key, City, State_Grouped, ZIP5, ZIP9, FSV_CMSI_Flag, FSV_Credit_Card_Flag, FSV_Deposit_Program_Flag, FSV_Home_Equity_Flag, FSV_ID_Theft_Flag, FSV_Mortgage_Flag, INS_Client_Flag, TRV_Globalware_Flag, Number_of_Children, Responded_to_Catalog, Race, Length_Of_Residence, Mail_Responder, Home_Owner, Income, Date_Of_Birth, Age, Children, Education, Dwelling_Type, Credit_Ranges, Language, Gender, Branch_Name, County, Join_AAA_Date, Member_Phone_Type, Member_Status, Member_Tenure_Years, Member_Type, Reinstate_Date, Renew_Method, ZIP, Mosaic_Household, Mosaic_Global_Household, kcl_B_IND_MosaicsGrouping, New_Mover_Flag, Occupation_Code, Occupation_Group, Right_Dwelling_Type, Move_Distance, Occupant_Type, Membership_Level, Roadside_Service, _memeber_count, _service_cnt, _total_cost, _total_products, _ERS_ENT_Count_Year_1, _ERS_ENT_Count_Year_2, _ERS_ENT_Count_Year_3, _ERS_Member_Cost_Year_1, _ERS_Member_Cost_Year_2, _ERS_Member_Cost_Year_3]\n",
       "Index: []\n",
       "\n",
       "[0 rows x 60 columns]"
      ]
     },
     "execution_count": 9,
     "metadata": {},
     "output_type": "execute_result"
    }
   ],
   "source": [
    "# replace nan with aveage of columns\n",
    "df_stage1 = df_fmt.fillna(df_fmt.mean()).copy()\n",
    "df_stage1[df_stage1['Age'].isnull()]"
   ]
  },
  {
   "cell_type": "code",
   "execution_count": 10,
   "metadata": {},
   "outputs": [],
   "source": [
    "# change type\n",
    "df_stage1[['Length_Of_Residence','Age']] = df_stage1[['Length_Of_Residence','Age']].astype(int)\n",
    "df_stage1[['Length_Of_Residence','Age']]\n",
    "df_rm = df_stage1.copy()"
   ]
  },
  {
   "cell_type": "markdown",
   "metadata": {},
   "source": [
    "### SAVE png FILES"
   ]
  },
  {
   "cell_type": "code",
   "execution_count": 11,
   "metadata": {},
   "outputs": [],
   "source": [
    "df = df_rm.copy()"
   ]
  },
  {
   "cell_type": "code",
   "execution_count": 12,
   "metadata": {},
   "outputs": [],
   "source": [
    "file_df = 'data/df'\n",
    "np.save(file_df, df)\n",
    "\n",
    "features = list(df)\n",
    "file_features = 'data/features'\n",
    "np.save(file_features, features)"
   ]
  },
  {
   "cell_type": "markdown",
   "metadata": {},
   "source": [
    "###  *** Subset of the data"
   ]
  },
  {
   "cell_type": "code",
   "execution_count": 13,
   "metadata": {},
   "outputs": [],
   "source": [
    "# select the columns from above data\n",
    "# who will purchase other products\n",
    "\n",
    "# li = ['Length_Of_Residence', 'Home_Owner', \n",
    "#       'Age','Children','Education','Dwelling_Type','Credit_Ranges',\n",
    "#       'Member_Tenure_Years','New_Mover_Flag','_total_products']\n",
    "# li"
   ]
  },
  {
   "cell_type": "code",
   "execution_count": 14,
   "metadata": {},
   "outputs": [
    {
     "data": {
      "text/plain": [
       "['Home_Owner',\n",
       " 'Age',\n",
       " 'Length_Of_Residence',\n",
       " 'Member_Tenure_Years',\n",
       " 'New_Mover_Flag',\n",
       " 'Credit_Ranges',\n",
       " 'Children',\n",
       " 'Education',\n",
       " 'Dwelling_Type',\n",
       " '_total_products']"
      ]
     },
     "execution_count": 14,
     "metadata": {},
     "output_type": "execute_result"
    }
   ],
   "source": [
    "li =  ['Home_Owner', 'Age', 'Length_Of_Residence', 'Member_Tenure_Years', \n",
    "       'New_Mover_Flag', 'Credit_Ranges',\n",
    "       'Children','Education', 'Dwelling_Type', '_total_products']\n",
    "li"
   ]
  },
  {
   "cell_type": "code",
   "execution_count": 15,
   "metadata": {
    "scrolled": true
   },
   "outputs": [
    {
     "data": {
      "text/plain": [
       "   Home_Owner  Age  Length_Of_Residence  Member_Tenure_Years  ... Children  \\\n",
       "1  Home.Owner   77                   15                   54  ...       No   \n",
       "2  Home.Owner   68                   15                   13  ...       No   \n",
       "3  Home.Owner   76                   15                   44  ...       No   \n",
       "4  Home.Owner   70                   15                   49  ...       No   \n",
       "6  Home.Owner   73                   15                   14  ...      Yes   \n",
       "\n",
       "          Education Dwelling_Type _total_products  \n",
       "1       High.School          SFDU               0  \n",
       "2      Some.College          SFDU               1  \n",
       "3       High.School          SFDU               1  \n",
       "4  Graduated.School          SFDU               2  \n",
       "6       High.School          SFDU               0  \n",
       "\n",
       "[5 rows x 10 columns]"
      ]
     },
     "execution_count": 15,
     "metadata": {},
     "output_type": "execute_result"
    }
   ],
   "source": [
    "df4 = df_rm[li].copy()\n",
    "df5 = df4.dropna()\n",
    "df = df5.drop_duplicates()\n",
    "df.head()"
   ]
  },
  {
   "cell_type": "code",
   "execution_count": 16,
   "metadata": {},
   "outputs": [
    {
     "data": {
      "text/plain": [
       "8"
      ]
     },
     "execution_count": 16,
     "metadata": {},
     "output_type": "execute_result"
    }
   ],
   "source": [
    "df['_total_products'].max()\n",
    "#return 4"
   ]
  },
  {
   "cell_type": "code",
   "execution_count": 17,
   "metadata": {},
   "outputs": [
    {
     "data": {
      "text/plain": [
       "(1971, 10)"
      ]
     },
     "execution_count": 17,
     "metadata": {},
     "output_type": "execute_result"
    }
   ],
   "source": [
    "df.shape"
   ]
  },
  {
   "cell_type": "code",
   "execution_count": 18,
   "metadata": {},
   "outputs": [
    {
     "name": "stdout",
     "output_type": "stream",
     "text": [
      "average age: 75.4650512581547\n"
     ]
    },
    {
     "data": {
      "image/png": "[encoded data removed]",
      "text/plain": [
       "<Figure size 432x288 with 1 Axes>"
      ]
     },
     "metadata": {},
     "output_type": "display_data"
    }
   ],
   "source": [
    "cklist = ['Individual_Key', 'Age']\n",
    "data = df_rm[cklist].copy()\n",
    "data.dropna()\n",
    "data.drop_duplicates()\n",
    "\n",
    "plt.style.use('fivethirtyeight')\n",
    "\n",
    "ids = data['Individual_Key']\n",
    "ages = data['Age']\n",
    "\n",
    "bins = [10, 20, 30, 40, 50, 60, 70, 80, 90, 100]\n",
    "\n",
    "plt.hist(ages, bins=bins, edgecolor='black', log=True)\n",
    "\n",
    "median_age = ages.mean()\n",
    "print(\"average age:\", median_age)\n",
    "color = '#fc4f30'\n",
    "\n",
    "plt.axvline(median_age, color=color, label='Age Median', linewidth=2)\n",
    "\n",
    "plt.legend()\n",
    "\n",
    "plt.title('Ages of AAA members')\n",
    "plt.xlabel('Ages')\n",
    "plt.ylabel('Total AAA members')\n",
    "\n",
    "plt.tight_layout()\n",
    "\n",
    "plt.show()\n"
   ]
  },
  {
   "cell_type": "code",
   "execution_count": 19,
   "metadata": {},
   "outputs": [
    {
     "name": "stdout",
     "output_type": "stream",
     "text": [
      "max tenure year: 87\n",
      "min tenure year: 0\n",
      "average tenure: 41.66356011183598\n"
     ]
    },
    {
     "data": {
      "image/png": "[encoded data removed]",
      "text/plain": [
       "<Figure size 432x288 with 1 Axes>"
      ]
     },
     "metadata": {},
     "output_type": "display_data"
    }
   ],
   "source": [
    "cklist = ['Individual_Key', 'Member_Tenure_Years']\n",
    "data = df_rm[cklist].copy()\n",
    "data.dropna()\n",
    "data.drop_duplicates()\n",
    "\n",
    "plt.style.use('seaborn-pastel')\n",
    "\n",
    "ids = data['Individual_Key']\n",
    "tenure = data['Member_Tenure_Years']\n",
    "\n",
    "bins = [10, 20, 30, 40, 50, 60, 70, 80, 90, 100]\n",
    "\n",
    "plt.hist(tenure, bins=bins, edgecolor='black', log=True)\n",
    "\n",
    "median_tenure = tenure.mean()\n",
    "print(\"max tenure year:\", tenure.max())\n",
    "print(\"min tenure year:\", tenure.min())\n",
    "print(\"average tenure:\", median_tenure)\n",
    "color = '#fc4f30'\n",
    "\n",
    "plt.axvline(median_tenure, color=color, label='Tenure Median', linewidth=2)\n",
    "\n",
    "plt.legend()\n",
    "\n",
    "plt.title('Tenure Years of AAA members')\n",
    "plt.xlabel('Member Tenure Years')\n",
    "plt.ylabel('Total AAA members')\n",
    "\n",
    "plt.tight_layout()\n",
    "\n",
    "plt.show()"
   ]
  },
  {
   "cell_type": "code",
   "execution_count": null,
   "metadata": {},
   "outputs": [],
   "source": []
  }
 ],
 "metadata": {
  "kernelspec": {
   "display_name": "Python 3",
   "language": "python",
   "name": "python3"
  },
  "language_info": {
   "codemirror_mode": {
    "name": "ipython",
    "version": 3
   },
   "file_extension": ".py",
   "mimetype": "text/x-python",
   "name": "python",
   "nbconvert_exporter": "python",
   "pygments_lexer": "ipython3",
   "version": "3.6.5"
  }
 },
 "nbformat": 4,
 "nbformat_minor": 2
}
