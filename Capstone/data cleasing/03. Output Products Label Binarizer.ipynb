{
 "cells": [
  {
   "cell_type": "markdown",
   "metadata": {},
   "source": [
    "##### upload csv file"
   ]
  },
  {
   "cell_type": "code",
   "execution_count": 1,
   "metadata": {},
   "outputs": [],
   "source": [
    "# import numpy and pandas\n",
    "import numpy as np\n",
    "import pandas as pd\n",
    "from sklearn import preprocessing\n",
    "\n",
    "# used for dates\n",
    "import datetime\n",
    "from datetime import datetime, date\n",
    "\n",
    "# Set some pandas options controlling output format\n",
    "pd.set_option('display.notebook_repr_html', False)\n",
    "pd.set_option('display.max_columns', 8)\n",
    "pd.set_option('display.max_rows', 100)\n",
    "pd.set_option('display.width', 90)\n",
    "\n",
    "# bring in matplotlib for graphics\n",
    "import matplotlib.pyplot as plt\n",
    "%matplotlib inline"
   ]
  },
  {
   "cell_type": "code",
   "execution_count": 2,
   "metadata": {},
   "outputs": [],
   "source": [
    "# read output #2 (new column for memeber tenure tier)\n",
    "root = 'data'\n",
    "msft = pd.read_csv( root + '/' +'2.member_tenure_tier.csv')\n",
    "#msft[:15]"
   ]
  },
  {
   "cell_type": "code",
   "execution_count": 3,
   "metadata": {},
   "outputs": [],
   "source": [
    "df = msft.copy()"
   ]
  },
  {
   "cell_type": "code",
   "execution_count": 4,
   "metadata": {},
   "outputs": [
    {
     "data": {
      "text/plain": [
       "(21343, 114)"
      ]
     },
     "execution_count": 4,
     "metadata": {},
     "output_type": "execute_result"
    }
   ],
   "source": [
    "df.shape"
   ]
  },
  {
   "cell_type": "code",
   "execution_count": 5,
   "metadata": {},
   "outputs": [
    {
     "data": {
      "text/plain": [
       "19                     Retired - Known\n",
       "21    Office Administration - Inferred\n",
       "22    Office Administration - Inferred\n",
       "23    Office Administration - Inferred\n",
       "24    Office Administration - Inferred\n",
       "Name: Occupation_Group, dtype: object"
      ]
     },
     "execution_count": 5,
     "metadata": {},
     "output_type": "execute_result"
    }
   ],
   "source": [
    "x2 = df['Occupation_Group'].dropna()\n",
    "x2.head()"
   ]
  },
  {
   "cell_type": "code",
   "execution_count": 6,
   "metadata": {},
   "outputs": [
    {
     "name": "stdout",
     "output_type": "stream",
     "text": [
      "['Member_Tenure_Tier'] \n",
      "\n"
     ]
    }
   ],
   "source": [
    "spike_cols = [col for col in df.columns if 'Tier' in col ]\n",
    "print(spike_cols, \"\\n\")"
   ]
  },
  {
   "cell_type": "code",
   "execution_count": 7,
   "metadata": {},
   "outputs": [
    {
     "name": "stdout",
     "output_type": "stream",
     "text": [
      "['Member_Flag', 'FSV_CMSI_Flag', 'FSV_Credit_Card_Flag', 'FSV_Deposit_Program_Flag', 'FSV_Home_Equity_Flag', 'FSV_ID_Theft_Flag', 'FSV_Mortgage_Flag', 'INS_Client_Flag', 'TRV_Globalware_Flag', 'Bad_Address_Flag', 'New_Mover_Flag', 'Member_Match_Flag'] \n",
      "\n",
      "['FSV_CMSI_Flag', 'FSV_Credit_Card_Flag', 'FSV_Deposit_Program_Flag', 'FSV_Home_Equity_Flag', 'FSV_ID_Theft_Flag', 'FSV_Mortgage_Flag'] \n",
      "\n",
      "['TRV_Globalware_Flag'] \n",
      "\n",
      "['Number_of_Children', 'Children'] \n",
      "\n"
     ]
    }
   ],
   "source": [
    "spike_cols = [col for col in df.columns if 'Flag' in col ]\n",
    "print(spike_cols, \"\\n\")\n",
    "spike_cols = [col for col in df.columns if 'FSV' in col ]\n",
    "print(spike_cols, \"\\n\")\n",
    "spike_cols = [col for col in df.columns if 'TRV' in col ]\n",
    "print(spike_cols, \"\\n\")\n",
    "spike_cols = [col for col in df.columns if 'Children' in col ]\n",
    "print(spike_cols, \"\\n\")"
   ]
  },
  {
   "cell_type": "code",
   "execution_count": 8,
   "metadata": {},
   "outputs": [
    {
     "data": {
      "text/plain": [
       "0"
      ]
     },
     "execution_count": 8,
     "metadata": {},
     "output_type": "execute_result"
    }
   ],
   "source": [
    "df[df['FSV_CMSI_Flag'].isnull()].shape[0]"
   ]
  },
  {
   "cell_type": "code",
   "execution_count": 9,
   "metadata": {},
   "outputs": [
    {
     "name": "stdout",
     "output_type": "stream",
     "text": [
      "current state FSV_CMSI_Flag values: ['N' 'Y']  and nan =  0 \n",
      "\n",
      "current state FSV_Credit_Card_Flag values: ['Y' 'N']  and nan =  0 \n",
      "\n",
      "current state FSV_Deposit_Program_Flag values: ['N' 'Y']  and nan =  0 \n",
      "\n",
      "current state FSV_Home_Equity_Flag values: ['N' 'Y']  and nan =  0 \n",
      "\n",
      "current state FSV_ID_Theft_Flag values: ['N' 'Y']  and nan =  0 \n",
      "\n",
      "current state FSV_Mortgage_Flag values: ['N' 'Y']  and nan =  0 \n",
      "\n",
      "current state TRV_Globalware_Flag values: ['N' 'Y']  and nan =  0 \n",
      "\n",
      "current state Children values: ['Yes' nan 'No']  and nan =  9333 \n",
      "\n"
     ]
    }
   ],
   "source": [
    "# verify the value in the columns:\n",
    "a = np.array(['FSV_CMSI_Flag', 'FSV_Credit_Card_Flag', 'FSV_Deposit_Program_Flag', 'FSV_Home_Equity_Flag', 'FSV_ID_Theft_Flag', 'FSV_Mortgage_Flag', 'TRV_Globalware_Flag', 'Children'])\n",
    "for i in range(0,len(a)):\n",
    "    temp = a[i]\n",
    "    nan = df[df[a[i]].isnull()].shape[0]\n",
    "    print(\"current state \" + a[i] + \" values:\", df[temp].unique(), \" and nan = \", nan, \"\\n\")\n",
    "    "
   ]
  },
  {
   "cell_type": "code",
   "execution_count": 10,
   "metadata": {},
   "outputs": [],
   "source": [
    "from sklearn import preprocessing\n",
    "\n",
    "# Convert binary fields to numeric boolean fields\n",
    "lb = preprocessing.LabelBinarizer()\n",
    "df_dummy = df.copy()\n",
    "a = np.array(['FSV_CMSI_Flag', 'FSV_Credit_Card_Flag', 'FSV_Deposit_Program_Flag', 'FSV_Home_Equity_Flag', 'FSV_ID_Theft_Flag', 'FSV_Mortgage_Flag', 'TRV_Globalware_Flag'])\n",
    "for i in range(0,len(a)):\n",
    "    temp = a[i]\n",
    "    df_dummy[temp] = lb.fit_transform(df_dummy[temp])\n",
    "\n",
    "#df_dummy['FSV_CMSI_Flag']"
   ]
  },
  {
   "cell_type": "code",
   "execution_count": 11,
   "metadata": {},
   "outputs": [
    {
     "name": "stdout",
     "output_type": "stream",
     "text": [
      "[0 1]\n",
      "[1 0]\n",
      "[0 1]\n",
      "[0 1]\n",
      "[0 1]\n",
      "[0 1]\n",
      "[0 1]\n"
     ]
    }
   ],
   "source": [
    "# verify the value in the columns:\n",
    "a = np.array(['FSV_CMSI_Flag', 'FSV_Credit_Card_Flag', 'FSV_Deposit_Program_Flag', 'FSV_Home_Equity_Flag', 'FSV_ID_Theft_Flag', 'FSV_Mortgage_Flag', 'TRV_Globalware_Flag'])\n",
    "for i in range(0,len(a)):\n",
    "    temp = a[i]\n",
    "    print(df_dummy[temp].unique())"
   ]
  },
  {
   "cell_type": "code",
   "execution_count": 12,
   "metadata": {},
   "outputs": [
    {
     "data": {
      "text/plain": [
       "(21343, 114)"
      ]
     },
     "execution_count": 12,
     "metadata": {},
     "output_type": "execute_result"
    }
   ],
   "source": [
    "df_dummy.shape"
   ]
  },
  {
   "cell_type": "code",
   "execution_count": 14,
   "metadata": {},
   "outputs": [
    {
     "data": {
      "text/plain": [
       "19                     Retired - Known\n",
       "21    Office Administration - Inferred\n",
       "22    Office Administration - Inferred\n",
       "23    Office Administration - Inferred\n",
       "24    Office Administration - Inferred\n",
       "Name: Occupation_Group, dtype: object"
      ]
     },
     "execution_count": 14,
     "metadata": {},
     "output_type": "execute_result"
    }
   ],
   "source": [
    "x2 = df_dummy['Occupation_Group'].dropna()\n",
    "x2.head()"
   ]
  },
  {
   "cell_type": "code",
   "execution_count": 15,
   "metadata": {},
   "outputs": [],
   "source": [
    "# write the output to data sub-directory\n",
    "root = 'data'\n",
    "df_dummy.to_csv( root + '/' +'3.product_label_binarizer.csv',index=False)"
   ]
  },
  {
   "cell_type": "code",
   "execution_count": null,
   "metadata": {},
   "outputs": [],
   "source": []
  }
 ],
 "metadata": {
  "kernelspec": {
   "display_name": "Python 3",
   "language": "python",
   "name": "python3"
  },
  "language_info": {
   "codemirror_mode": {
    "name": "ipython",
    "version": 3
   },
   "file_extension": ".py",
   "mimetype": "text/x-python",
   "name": "python",
   "nbconvert_exporter": "python",
   "pygments_lexer": "ipython3",
   "version": "3.6.5"
  }
 },
 "nbformat": 4,
 "nbformat_minor": 2
}
