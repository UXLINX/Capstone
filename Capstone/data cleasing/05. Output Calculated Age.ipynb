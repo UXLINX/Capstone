{
 "cells": [
  {
   "cell_type": "markdown",
   "metadata": {},
   "source": [
    "##### upload csv file"
   ]
  },
  {
   "cell_type": "code",
   "execution_count": 1,
   "metadata": {},
   "outputs": [],
   "source": [
    "# import numpy and pandas\n",
    "import numpy as np\n",
    "import pandas as pd\n",
    "from sklearn import preprocessing\n",
    "\n",
    "# used for dates\n",
    "import datetime\n",
    "from datetime import datetime, date\n",
    "\n",
    "# Set some pandas options controlling output format\n",
    "pd.set_option('display.notebook_repr_html', False)\n",
    "pd.set_option('display.max_columns', 8)\n",
    "pd.set_option('display.max_rows', 100)\n",
    "pd.set_option('display.width', 90)\n",
    "\n",
    "# bring in matplotlib for graphics\n",
    "import matplotlib.pyplot as plt\n",
    "%matplotlib inline"
   ]
  },
  {
   "cell_type": "code",
   "execution_count": 2,
   "metadata": {},
   "outputs": [],
   "source": [
    "# read output #4 (file has total products)\n",
    "root = 'data'\n",
    "msft = pd.read_csv(root + '/' +'4.total_products_cleanup.csv')\n",
    "#msft[:15]\n"
   ]
  },
  {
   "cell_type": "code",
   "execution_count": 3,
   "metadata": {},
   "outputs": [],
   "source": [
    "df = msft.copy()"
   ]
  },
  {
   "cell_type": "code",
   "execution_count": 4,
   "metadata": {},
   "outputs": [
    {
     "data": {
      "text/plain": [
       "(21343, 113)"
      ]
     },
     "execution_count": 4,
     "metadata": {},
     "output_type": "execute_result"
    }
   ],
   "source": [
    "df.shape"
   ]
  },
  {
   "cell_type": "code",
   "execution_count": 5,
   "metadata": {},
   "outputs": [
    {
     "name": "stdout",
     "output_type": "stream",
     "text": [
      "['Member_Tenure_Tier'] \n",
      "\n"
     ]
    }
   ],
   "source": [
    "spike_cols = [col for col in df.columns if 'Tier' in col ]\n",
    "print(spike_cols, \"\\n\")"
   ]
  },
  {
   "cell_type": "code",
   "execution_count": 6,
   "metadata": {},
   "outputs": [
    {
     "name": "stdout",
     "output_type": "stream",
     "text": [
      "['Individual_Key', 'Household_Key', 'Member_Key'] \n",
      "\n",
      "['FSV_CMSI_Flag', 'FSV_Credit_Card_Flag', 'FSV_Deposit_Program_Flag', 'FSV_Home_Equity_Flag', 'FSV_ID_Theft_Flag', 'FSV_Mortgage_Flag'] \n",
      "\n",
      "['TRV_Globalware_Flag'] \n",
      "\n",
      "['Total_Products', 'Total_Cost'] \n",
      "\n",
      "['Email_Status', 'Member_Status', 'Call_Status_Recv_Date'] \n",
      "\n"
     ]
    }
   ],
   "source": [
    "spike_cols = [col for col in df.columns if 'Key' in col ]\n",
    "print(spike_cols, \"\\n\")\n",
    "spike_cols = [col for col in df.columns if 'FSV' in col ]\n",
    "print(spike_cols, \"\\n\")\n",
    "spike_cols = [col for col in df.columns if 'TRV' in col ]\n",
    "print(spike_cols, \"\\n\")\n",
    "spike_cols = [col for col in df.columns if 'Total' in col ]\n",
    "print(spike_cols, \"\\n\")\n",
    "spike_cols = [col for col in df.columns if 'Status' in col ]\n",
    "print(spike_cols, \"\\n\")\n"
   ]
  },
  {
   "cell_type": "code",
   "execution_count": 7,
   "metadata": {},
   "outputs": [
    {
     "name": "stdout",
     "output_type": "stream",
     "text": [
      "['Date_Of_Birth', 'Birth_Date_MMDDYYYY'] \n",
      "\n"
     ]
    }
   ],
   "source": [
    "spike_cols = [col for col in df.columns if 'Birth' in col ]\n",
    "print(spike_cols, \"\\n\")"
   ]
  },
  {
   "cell_type": "code",
   "execution_count": 8,
   "metadata": {},
   "outputs": [
    {
     "data": {
      "text/plain": [
       "0    1922-02-05 00:00:00\n",
       "1    1922-02-05 00:00:00\n",
       "2    1922-02-05 00:00:00\n",
       "3    1922-02-05 00:00:00\n",
       "4    1922-02-05 00:00:00\n",
       "Name: Date_Of_Birth, dtype: object"
      ]
     },
     "execution_count": 8,
     "metadata": {},
     "output_type": "execute_result"
    }
   ],
   "source": [
    "df['Date_Of_Birth'][:5]"
   ]
  },
  {
   "cell_type": "code",
   "execution_count": 9,
   "metadata": {},
   "outputs": [
    {
     "data": {
      "text/plain": [
       "0    1922-02-05\n",
       "1    1922-02-05\n",
       "2    1922-02-05\n",
       "3    1922-02-05\n",
       "4    1922-02-05\n",
       "Name: Date_Of_Birth, dtype: object"
      ]
     },
     "execution_count": 9,
     "metadata": {},
     "output_type": "execute_result"
    }
   ],
   "source": [
    "# remove time from date + time format\n",
    "df['Date_Of_Birth'] = pd.to_datetime(df['Date_Of_Birth']).dt.date\n",
    "df['Date_Of_Birth'][:5]"
   ]
  },
  {
   "cell_type": "code",
   "execution_count": 10,
   "metadata": {},
   "outputs": [
    {
     "name": "stdout",
     "output_type": "stream",
     "text": [
      "2020-02-27\n"
     ]
    }
   ],
   "source": [
    "print(datetime.today().strftime('%Y-%m-%d'))"
   ]
  },
  {
   "cell_type": "code",
   "execution_count": 11,
   "metadata": {},
   "outputs": [],
   "source": [
    "#del woo"
   ]
  },
  {
   "cell_type": "code",
   "execution_count": 12,
   "metadata": {},
   "outputs": [],
   "source": [
    "woo = df[['Individual_Key', 'Date_Of_Birth']].copy()"
   ]
  },
  {
   "cell_type": "code",
   "execution_count": 13,
   "metadata": {},
   "outputs": [
    {
     "data": {
      "text/plain": [
       "   Individual_Key Date_Of_Birth         Now\n",
       "0      52211550.0    1922-02-05  2020-02-27\n",
       "1      52211550.0    1922-02-05  2020-02-27\n",
       "2      52211550.0    1922-02-05  2020-02-27\n",
       "3      52211550.0    1922-02-05  2020-02-27\n",
       "4      52211550.0    1922-02-05  2020-02-27"
      ]
     },
     "execution_count": 13,
     "metadata": {},
     "output_type": "execute_result"
    }
   ],
   "source": [
    "# remove warning message \n",
    "pd.options.mode.chained_assignment = None\n",
    "\n",
    "\n",
    "tdy = datetime.today().strftime('%Y-%m-%d')\n",
    "#Add a New Column to the DataFrame\n",
    "woo.columns\n",
    "woo.loc[:,\"Now\"]  = tdy\n",
    "woo[:5]\n",
    "#woo['Now'] = pd.to_datetime(tdy)"
   ]
  },
  {
   "cell_type": "code",
   "execution_count": 14,
   "metadata": {},
   "outputs": [
    {
     "data": {
      "text/plain": [
       "   Individual_Key Date_Of_Birth         Now  Age\n",
       "0      52211550.0    1922-02-05  2020-02-27   98\n",
       "1      52211550.0    1922-02-05  2020-02-27   98\n",
       "2      52211550.0    1922-02-05  2020-02-27   98\n",
       "3      52211550.0    1922-02-05  2020-02-27   98\n",
       "4      52211550.0    1922-02-05  2020-02-27   98\n",
       "5      52211550.0    1922-02-05  2020-02-27   98\n",
       "6      52211550.0    1922-02-05  2020-02-27   98\n",
       "7      52211550.0    1922-02-05  2020-02-27   98\n",
       "8      52211550.0    1922-02-05  2020-02-27   98\n",
       "9       1606764.0           NaT  2020-02-27   -1"
      ]
     },
     "execution_count": 14,
     "metadata": {},
     "output_type": "execute_result"
    }
   ],
   "source": [
    "woo['Age'] = pd.to_datetime(woo['Now']).dt.year - pd.to_datetime(woo['Date_Of_Birth']).dt.year\n",
    "\n",
    "# format age as int\n",
    "# repalce nan with 0 to avoid error message\n",
    "woo['Age'] = woo['Age'].replace(np.NaN, -1)\n",
    "woo['Age'] = woo['Age'].astype(int)\n",
    "woo[:10]\n"
   ]
  },
  {
   "cell_type": "code",
   "execution_count": 15,
   "metadata": {},
   "outputs": [
    {
     "data": {
      "text/plain": [
       "   Individual_Key         Now  Age\n",
       "0      52211550.0  2020-02-27   98\n",
       "1      52211550.0  2020-02-27   98\n",
       "2      52211550.0  2020-02-27   98\n",
       "3      52211550.0  2020-02-27   98\n",
       "4      52211550.0  2020-02-27   98"
      ]
     },
     "execution_count": 15,
     "metadata": {},
     "output_type": "execute_result"
    }
   ],
   "source": [
    "del woo['Date_Of_Birth']\n",
    "woo[:5]"
   ]
  },
  {
   "cell_type": "code",
   "execution_count": 16,
   "metadata": {},
   "outputs": [
    {
     "data": {
      "text/plain": [
       "   Individual_Key  Age\n",
       "0      52211550.0   98\n",
       "1      52211550.0   98\n",
       "2      52211550.0   98\n",
       "3      52211550.0   98\n",
       "4      52211550.0   98"
      ]
     },
     "execution_count": 16,
     "metadata": {},
     "output_type": "execute_result"
    }
   ],
   "source": [
    "del woo['Now']\n",
    "woo[:5]"
   ]
  },
  {
   "cell_type": "code",
   "execution_count": 17,
   "metadata": {},
   "outputs": [
    {
     "name": "stdout",
     "output_type": "stream",
     "text": [
      "(157797, 115)\n",
      "Index(['Individual_Key', 'Household_Key', 'City', 'State_-_Grouped', 'ZIP5', 'ZIP9',\n",
      "       'FSV_CMSI_Flag', 'FSV_Credit_Card_Flag', 'FSV_Deposit_Program_Flag',\n",
      "       'FSV_Home_Equity_Flag',\n",
      "       ...\n",
      "       'Total_Cost', 'Tow_Destination_Latitude', 'Tow_Destination_Longitude',\n",
      "       'Tow_Destination_Name', 'Was_Duplicated', 'Was_Towed_To_AAR_Referral',\n",
      "       'Member_Tenure_Decile', 'Member_Tenure_Tier', 'Age', 'Individual_Cnt'],\n",
      "      dtype='object', length=115)\n"
     ]
    }
   ],
   "source": [
    "# add an new column: Age to the original dataset\n",
    "# adding the product count into the orginal dataset\n",
    "df_result = pd.merge(df, woo, on='Individual_Key')\n",
    "\n",
    "# add 1 as Individual count in the dataset\n",
    "df_result['Individual_Cnt'] = 1\n",
    "\n",
    "print(df_result.shape)\n",
    "print(df_result.columns)\n"
   ]
  },
  {
   "cell_type": "code",
   "execution_count": 18,
   "metadata": {},
   "outputs": [
    {
     "data": {
      "text/plain": [
       "157797"
      ]
     },
     "execution_count": 18,
     "metadata": {},
     "output_type": "execute_result"
    }
   ],
   "source": [
    "df_result['Individual_Cnt'].count()"
   ]
  },
  {
   "cell_type": "code",
   "execution_count": 19,
   "metadata": {},
   "outputs": [
    {
     "data": {
      "text/plain": [
       "22"
      ]
     },
     "execution_count": 19,
     "metadata": {},
     "output_type": "execute_result"
    }
   ],
   "source": [
    "df_result.rename(columns = {'Age':'temp'}, inplace = True) \n",
    "\n",
    "# find the column index\n",
    "df_result.columns.get_loc('Date_Of_Birth')"
   ]
  },
  {
   "cell_type": "code",
   "execution_count": 20,
   "metadata": {},
   "outputs": [
    {
     "data": {
      "text/plain": [
       "   Individual_Key  Household_Key          City State_-_Grouped       ...        \\\n",
       "0      52211550.0      4500791.0  WEST WARWICK              RI       ...         \n",
       "1      52211550.0      4500791.0  WEST WARWICK              RI       ...         \n",
       "\n",
       "   Was_Towed_To_AAR_Referral  Member_Tenure_Decile  Member_Tenure_Tier  Individual_Cnt  \n",
       "0                        1.0                     8               48-49               1  \n",
       "1                        1.0                     8               48-49               1  \n",
       "\n",
       "[2 rows x 115 columns]"
      ]
     },
     "execution_count": 20,
     "metadata": {},
     "output_type": "execute_result"
    }
   ],
   "source": [
    "# add new column to the 1st position\n",
    "df_result.insert(23, 'Age', df_result['temp'])\n",
    "woo['Age']\n",
    "del df_result['temp']\n",
    "df_result[:2]"
   ]
  },
  {
   "cell_type": "code",
   "execution_count": 21,
   "metadata": {},
   "outputs": [
    {
     "data": {
      "text/plain": [
       "(157797, 115)"
      ]
     },
     "execution_count": 21,
     "metadata": {},
     "output_type": "execute_result"
    }
   ],
   "source": [
    "df_result.shape"
   ]
  },
  {
   "cell_type": "code",
   "execution_count": 22,
   "metadata": {},
   "outputs": [
    {
     "data": {
      "text/plain": [
       "(21343, 113)"
      ]
     },
     "execution_count": 22,
     "metadata": {},
     "output_type": "execute_result"
    }
   ],
   "source": [
    "df.shape"
   ]
  },
  {
   "cell_type": "code",
   "execution_count": 23,
   "metadata": {},
   "outputs": [
    {
     "data": {
      "text/plain": [
       "23"
      ]
     },
     "execution_count": 23,
     "metadata": {},
     "output_type": "execute_result"
    }
   ],
   "source": [
    "# find the column index\n",
    "df_result.columns.get_loc('Age')"
   ]
  },
  {
   "cell_type": "code",
   "execution_count": 24,
   "metadata": {},
   "outputs": [
    {
     "data": {
      "text/plain": [
       "Index(['Individual_Key', 'Household_Key', 'City', 'State_-_Grouped', 'ZIP5', 'ZIP9',\n",
       "       'FSV_CMSI_Flag', 'FSV_Credit_Card_Flag', 'FSV_Deposit_Program_Flag',\n",
       "       'FSV_Home_Equity_Flag',\n",
       "       ...\n",
       "       'SVC_Facility_Type', 'Total_Cost', 'Tow_Destination_Latitude',\n",
       "       'Tow_Destination_Longitude', 'Tow_Destination_Name', 'Was_Duplicated',\n",
       "       'Was_Towed_To_AAR_Referral', 'Member_Tenure_Decile', 'Member_Tenure_Tier',\n",
       "       'Individual_Cnt'],\n",
       "      dtype='object', length=115)"
      ]
     },
     "execution_count": 24,
     "metadata": {},
     "output_type": "execute_result"
    }
   ],
   "source": [
    "df_result.columns"
   ]
  },
  {
   "cell_type": "code",
   "execution_count": 25,
   "metadata": {},
   "outputs": [
    {
     "data": {
      "text/plain": [
       "117                     Retired - Known\n",
       "119    Office Administration - Inferred\n",
       "120    Office Administration - Inferred\n",
       "121    Office Administration - Inferred\n",
       "122    Office Administration - Inferred\n",
       "Name: Occupation_Group, dtype: object"
      ]
     },
     "execution_count": 25,
     "metadata": {},
     "output_type": "execute_result"
    }
   ],
   "source": [
    "w1 = df_result['Occupation_Group'].dropna()\n",
    "w1.head()"
   ]
  },
  {
   "cell_type": "code",
   "execution_count": 26,
   "metadata": {},
   "outputs": [],
   "source": [
    "# # write the output to data sub-directory\n",
    "root = 'data'\n",
    "df_result.to_csv( root + '/' +'5.member_age.csv',index=False)"
   ]
  },
  {
   "cell_type": "code",
   "execution_count": null,
   "metadata": {},
   "outputs": [],
   "source": []
  }
 ],
 "metadata": {
  "kernelspec": {
   "display_name": "Python 3",
   "language": "python",
   "name": "python3"
  },
  "language_info": {
   "codemirror_mode": {
    "name": "ipython",
    "version": 3
   },
   "file_extension": ".py",
   "mimetype": "text/x-python",
   "name": "python",
   "nbconvert_exporter": "python",
   "pygments_lexer": "ipython3",
   "version": "3.6.5"
  }
 },
 "nbformat": 4,
 "nbformat_minor": 2
}
