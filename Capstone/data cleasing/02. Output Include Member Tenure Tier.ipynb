{
 "cells": [
  {
   "cell_type": "markdown",
   "metadata": {},
   "source": [
    "##### upload csv file"
   ]
  },
  {
   "cell_type": "code",
   "execution_count": 1,
   "metadata": {},
   "outputs": [],
   "source": [
    "# import numpy and pandas\n",
    "import numpy as np\n",
    "import pandas as pd\n",
    "from sklearn import preprocessing\n",
    "\n",
    "# used for dates\n",
    "import datetime\n",
    "from datetime import datetime, date\n",
    "\n",
    "# Set some pandas options controlling output format\n",
    "pd.set_option('display.notebook_repr_html', False)\n",
    "pd.set_option('display.max_columns', 8)\n",
    "pd.set_option('display.max_rows', 100)\n",
    "pd.set_option('display.width', 90)\n",
    "\n",
    "# bring in matplotlib for graphics\n",
    "import matplotlib.pyplot as plt\n",
    "%matplotlib inline"
   ]
  },
  {
   "cell_type": "code",
   "execution_count": 2,
   "metadata": {},
   "outputs": [],
   "source": [
    "# read output #1 (repalce space with underscore in all columns)\n",
    "root = 'data'\n",
    "msft = pd.read_csv( root + '/' +'1.member_column_cleanup.csv')\n",
    "#msft[:15]"
   ]
  },
  {
   "cell_type": "code",
   "execution_count": 3,
   "metadata": {},
   "outputs": [],
   "source": [
    "df = msft.copy()"
   ]
  },
  {
   "cell_type": "code",
   "execution_count": 4,
   "metadata": {},
   "outputs": [
    {
     "data": {
      "text/plain": [
       "(21344, 112)"
      ]
     },
     "execution_count": 4,
     "metadata": {},
     "output_type": "execute_result"
    }
   ],
   "source": [
    "df.shape"
   ]
  },
  {
   "cell_type": "code",
   "execution_count": 5,
   "metadata": {},
   "outputs": [],
   "source": [
    "# split na from memeber tenure years before binning data\n",
    "# add df_na back at the end of binning data process\n",
    "df_na = df[df['Member_Tenure_Years'].isnull()].copy()\n",
    "df_temp = df[df['Member_Tenure_Years'].notnull()].copy()"
   ]
  },
  {
   "cell_type": "code",
   "execution_count": 6,
   "metadata": {},
   "outputs": [],
   "source": [
    "# print(df_na.shape)\n",
    "# df_na.transpose()\n",
    "# # forget this row since it has not much data in it\n",
    "# # no need to add it back"
   ]
  },
  {
   "cell_type": "code",
   "execution_count": 7,
   "metadata": {},
   "outputs": [
    {
     "data": {
      "text/plain": [
       "Index(['Individual_Key', 'Household_Key', 'Member_Flag', 'City', 'State_-_Grouped',\n",
       "       'ZIP5', 'ZIP9', 'FSV_CMSI_Flag', 'FSV_Credit_Card_Flag',\n",
       "       'FSV_Deposit_Program_Flag',\n",
       "       ...\n",
       "       'SC_Vehicle_Manufacturer_Name', 'SC_Vehicle_Model_Name', 'SVC_Facility_Name',\n",
       "       'SVC_Facility_Type', 'Total_Cost', 'Tow_Destination_Latitude',\n",
       "       'Tow_Destination_Longitude', 'Tow_Destination_Name', 'Was_Duplicated',\n",
       "       'Was_Towed_To_AAR_Referral'],\n",
       "      dtype='object', length=112)"
      ]
     },
     "execution_count": 7,
     "metadata": {},
     "output_type": "execute_result"
    }
   ],
   "source": [
    "df_temp.columns"
   ]
  },
  {
   "cell_type": "code",
   "execution_count": 8,
   "metadata": {},
   "outputs": [
    {
     "data": {
      "text/plain": [
       "20                     Retired - Known\n",
       "22    Office Administration - Inferred\n",
       "23    Office Administration - Inferred\n",
       "24    Office Administration - Inferred\n",
       "25    Office Administration - Inferred\n",
       "Name: Occupation_Group, dtype: object"
      ]
     },
     "execution_count": 8,
     "metadata": {},
     "output_type": "execute_result"
    }
   ],
   "source": [
    "x = df_temp['Occupation_Group'].dropna()\n",
    "x.head()"
   ]
  },
  {
   "cell_type": "code",
   "execution_count": 9,
   "metadata": {},
   "outputs": [],
   "source": [
    "li = df_temp['Member_Tenure_Years'].unique().tolist()\n",
    "#sorted(li)"
   ]
  },
  {
   "cell_type": "code",
   "execution_count": 10,
   "metadata": {},
   "outputs": [
    {
     "name": "stdout",
     "output_type": "stream",
     "text": [
      "max value: 98\n"
     ]
    }
   ],
   "source": [
    "max_value = df_temp['Member_Tenure_Years'].max()\n",
    "print('max value:', int(max_value))"
   ]
  },
  {
   "cell_type": "code",
   "execution_count": 11,
   "metadata": {},
   "outputs": [
    {
     "data": {
      "text/plain": [
       "1     2317\n",
       "2     2114\n",
       "3     2183\n",
       "4     2016\n",
       "5     2162\n",
       "6     2625\n",
       "7     2104\n",
       "8     2892\n",
       "9     1144\n",
       "10    1786\n",
       "Name: Member_Tenure_Decile, dtype: int64"
      ]
     },
     "execution_count": 11,
     "metadata": {},
     "output_type": "execute_result"
    }
   ],
   "source": [
    "# Deciles as integer from 1 to 10\n",
    "df_temp['Member_Tenure_Decile'] = pd.qcut(df_temp['Member_Tenure_Years'],q=10,labels=False) + 1\n",
    "df_temp['Member_Tenure_Decile'].value_counts().sort_index()"
   ]
  },
  {
   "cell_type": "markdown",
   "metadata": {},
   "source": [
    "###### The iter() function takes two parameters:\n",
    "\n",
    "object - object whose iterator has to be created (can be sets, tuples, etc.)\n",
    "\n",
    "sentinel (optional) - special value that is used to represent the end of a sequence"
   ]
  },
  {
   "cell_type": "code",
   "execution_count": 12,
   "metadata": {},
   "outputs": [],
   "source": [
    "# # convert list to dictionary\n",
    "# lst = ['a', 1, 'b', 2, 'c', 3] \n",
    "# it=iter(lst)\n",
    "# res_dct = dict(zip(it, it)) \n",
    "# print(res_dct)"
   ]
  },
  {
   "cell_type": "code",
   "execution_count": 13,
   "metadata": {},
   "outputs": [
    {
     "name": "stdout",
     "output_type": "stream",
     "text": [
      "{1: '0-10', 2: '10-13', 3: '14-18', 4: '19-25', 5: '26-35', 6: '36-46', 7: '47-47', 8: '48-49', 9: '50-55', 10: '56-98'}\n"
     ]
    }
   ],
   "source": [
    "# assign memeber tenure tier\n",
    "\n",
    "category,bins = pd.qcut(df_temp['Member_Tenure_Years'],q=10,retbins=True,labels=False)\n",
    "\n",
    "bins_lst=[]\n",
    "for i in range(0,len(bins)):\n",
    "    if i == 0:\n",
    "        bins_lst = [1,'0-10']\n",
    "    elif i+1 < len(bins):\n",
    "        k = (i+1)\n",
    "        bins_lst.append(k)\n",
    "        v = str(int(bins[i])+1) + \"-\" + str(int(bins[i+1]))\n",
    "        bins_lst.append(v)\n",
    "        \n",
    "#print(bins_lst)\n",
    "it=iter(bins_lst)\n",
    "bins_dct = dict(zip(it, it)) \n",
    "print(bins_dct)"
   ]
  },
  {
   "cell_type": "code",
   "execution_count": 14,
   "metadata": {},
   "outputs": [],
   "source": [
    "# repalce category key with a more describe names by using map function\n",
    "# add a new column to df_temp\n",
    "df_temp['Member_Tenure_Tier'] = df_temp['Member_Tenure_Decile'].map(bins_dct)\n",
    "#df_na['Member_Tenure_Tier'] = np.nan"
   ]
  },
  {
   "cell_type": "code",
   "execution_count": 15,
   "metadata": {},
   "outputs": [],
   "source": [
    "#df_temp['Member_Tenure_Tier'].unique()[:15]\n",
    "#df_na['Member_Tenure_Tier']"
   ]
  },
  {
   "cell_type": "code",
   "execution_count": 16,
   "metadata": {},
   "outputs": [],
   "source": [
    "# spike_cols = [col for col in df_temp.columns if 'Decile' in col]\n",
    "# print(spike_cols)\n",
    "# spike_cols = [col for col in df_na.columns if 'Decile' in col]\n",
    "# print(spike_cols)"
   ]
  },
  {
   "cell_type": "code",
   "execution_count": 17,
   "metadata": {
    "scrolled": true
   },
   "outputs": [],
   "source": [
    "# delete Member_Tenure_Decile column from df_temp before merge it back with df_na\n",
    "# del df_temp['Member_Tenure_Decile']\n",
    "# spike_cols = [col for col in df_temp.columns if 'Decile' in col]\n",
    "# print(spike_cols)"
   ]
  },
  {
   "cell_type": "code",
   "execution_count": 18,
   "metadata": {},
   "outputs": [],
   "source": [
    "# df1 = pd.concat([df_temp, df_na], ignore_index=True, sort=True)\n",
    "# print(\"df_temp:\", df_temp.shape)\n",
    "# print(\"df_na:\", df_na.shape)\n",
    "# print(\"df1.shape\", df1.shape)"
   ]
  },
  {
   "cell_type": "code",
   "execution_count": 19,
   "metadata": {},
   "outputs": [
    {
     "data": {
      "text/plain": [
       "Index(['Individual_Key', 'Household_Key', 'Member_Flag', 'City', 'State_-_Grouped',\n",
       "       'ZIP5', 'ZIP9', 'FSV_CMSI_Flag', 'FSV_Credit_Card_Flag',\n",
       "       'FSV_Deposit_Program_Flag',\n",
       "       ...\n",
       "       'SVC_Facility_Name', 'SVC_Facility_Type', 'Total_Cost',\n",
       "       'Tow_Destination_Latitude', 'Tow_Destination_Longitude', 'Tow_Destination_Name',\n",
       "       'Was_Duplicated', 'Was_Towed_To_AAR_Referral', 'Member_Tenure_Decile',\n",
       "       'Member_Tenure_Tier'],\n",
       "      dtype='object', length=114)"
      ]
     },
     "execution_count": 19,
     "metadata": {},
     "output_type": "execute_result"
    }
   ],
   "source": [
    "df_temp.columns"
   ]
  },
  {
   "cell_type": "code",
   "execution_count": 20,
   "metadata": {},
   "outputs": [
    {
     "data": {
      "text/plain": [
       "20                     Retired - Known\n",
       "22    Office Administration - Inferred\n",
       "23    Office Administration - Inferred\n",
       "24    Office Administration - Inferred\n",
       "25    Office Administration - Inferred\n",
       "Name: Occupation_Group, dtype: object"
      ]
     },
     "execution_count": 20,
     "metadata": {},
     "output_type": "execute_result"
    }
   ],
   "source": [
    "x1 = df_temp['Occupation_Group'].dropna()\n",
    "x1.head()"
   ]
  },
  {
   "cell_type": "code",
   "execution_count": 21,
   "metadata": {},
   "outputs": [],
   "source": [
    "# write the output to data sub-directory\n",
    "root = 'data'\n",
    "df_temp.to_csv( root + '/' +'2.member_tenure_tier.csv',index=False)"
   ]
  },
  {
   "cell_type": "code",
   "execution_count": null,
   "metadata": {},
   "outputs": [],
   "source": []
  }
 ],
 "metadata": {
  "kernelspec": {
   "display_name": "Python 3",
   "language": "python",
   "name": "python3"
  },
  "language_info": {
   "codemirror_mode": {
    "name": "ipython",
    "version": 3
   },
   "file_extension": ".py",
   "mimetype": "text/x-python",
   "name": "python",
   "nbconvert_exporter": "python",
   "pygments_lexer": "ipython3",
   "version": "3.6.5"
  }
 },
 "nbformat": 4,
 "nbformat_minor": 2
}
