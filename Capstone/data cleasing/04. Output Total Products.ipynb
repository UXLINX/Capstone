{
 "cells": [
  {
   "cell_type": "markdown",
   "metadata": {},
   "source": [
    "##### upload csv file"
   ]
  },
  {
   "cell_type": "code",
   "execution_count": 1,
   "metadata": {},
   "outputs": [],
   "source": [
    "# import numpy and pandas\n",
    "import numpy as np\n",
    "import pandas as pd\n",
    "from sklearn import preprocessing\n",
    "\n",
    "# used for dates\n",
    "import datetime\n",
    "from datetime import datetime, date\n",
    "\n",
    "# Set some pandas options controlling output format\n",
    "pd.set_option('display.notebook_repr_html', False)\n",
    "pd.set_option('display.max_columns', 8)\n",
    "pd.set_option('display.max_rows', 100)\n",
    "pd.set_option('display.width', 90)\n",
    "\n",
    "# bring in matplotlib for graphics\n",
    "import matplotlib.pyplot as plt\n",
    "%matplotlib inline"
   ]
  },
  {
   "cell_type": "code",
   "execution_count": 2,
   "metadata": {},
   "outputs": [],
   "source": [
    "# read output #2 (new column for memeber tenure tier)\n",
    "root = 'data'\n",
    "msft = pd.read_csv(root + '/' +'3.product_label_binarizer.csv')\n",
    "#msft[:15]"
   ]
  },
  {
   "cell_type": "code",
   "execution_count": 3,
   "metadata": {},
   "outputs": [],
   "source": [
    "df = msft.copy()"
   ]
  },
  {
   "cell_type": "code",
   "execution_count": 4,
   "metadata": {},
   "outputs": [
    {
     "data": {
      "text/plain": [
       "(21343, 114)"
      ]
     },
     "execution_count": 4,
     "metadata": {},
     "output_type": "execute_result"
    }
   ],
   "source": [
    "df.shape"
   ]
  },
  {
   "cell_type": "code",
   "execution_count": 5,
   "metadata": {},
   "outputs": [
    {
     "name": "stdout",
     "output_type": "stream",
     "text": [
      "['Member_Tenure_Tier'] \n",
      "\n"
     ]
    }
   ],
   "source": [
    "spike_cols = [col for col in df.columns if 'Tier' in col ]\n",
    "print(spike_cols, \"\\n\")"
   ]
  },
  {
   "cell_type": "code",
   "execution_count": 6,
   "metadata": {},
   "outputs": [
    {
     "name": "stdout",
     "output_type": "stream",
     "text": [
      "['Member_Flag', 'FSV_CMSI_Flag', 'FSV_Credit_Card_Flag', 'FSV_Deposit_Program_Flag', 'FSV_Home_Equity_Flag', 'FSV_ID_Theft_Flag', 'FSV_Mortgage_Flag', 'INS_Client_Flag', 'TRV_Globalware_Flag', 'Bad_Address_Flag', 'New_Mover_Flag', 'Member_Match_Flag'] \n",
      "\n",
      "['FSV_CMSI_Flag', 'FSV_Credit_Card_Flag', 'FSV_Deposit_Program_Flag', 'FSV_Home_Equity_Flag', 'FSV_ID_Theft_Flag', 'FSV_Mortgage_Flag'] \n",
      "\n",
      "['TRV_Globalware_Flag'] \n",
      "\n"
     ]
    }
   ],
   "source": [
    "spike_cols = [col for col in df.columns if 'Flag' in col ]\n",
    "print(spike_cols, \"\\n\")\n",
    "spike_cols = [col for col in df.columns if 'FSV' in col ]\n",
    "print(spike_cols, \"\\n\")\n",
    "spike_cols = [col for col in df.columns if 'TRV' in col ]\n",
    "print(spike_cols, \"\\n\")"
   ]
  },
  {
   "cell_type": "code",
   "execution_count": 7,
   "metadata": {},
   "outputs": [
    {
     "name": "stdout",
     "output_type": "stream",
     "text": [
      "(21343, 114)\n",
      "(21343, 8)\n",
      "(11902, 8)\n"
     ]
    },
    {
     "data": {
      "text/plain": [
       "    Individual_Key  FSV_CMSI_Flag  FSV_Credit_Card_Flag  FSV_Deposit_Program_Flag  \\\n",
       "0       52211550.0              0                     1                         0   \n",
       "9        1606764.0              0                     0                         0   \n",
       "10       2766867.0              0                     0                         0   \n",
       "13       2766869.0              0                     0                         0   \n",
       "14       2766868.0              0                     0                         0   \n",
       "19      13746947.0              0                     0                         0   \n",
       "20       1788453.0              0                     0                         0   \n",
       "21       1788452.0              0                     0                         0   \n",
       "25       1788455.0              0                     0                         0   \n",
       "26      14243585.0              0                     0                         0   \n",
       "\n",
       "    FSV_Home_Equity_Flag  FSV_ID_Theft_Flag  FSV_Mortgage_Flag  TRV_Globalware_Flag  \n",
       "0                      0                  0                  0                    0  \n",
       "9                      0                  0                  0                    0  \n",
       "10                     0                  0                  0                    0  \n",
       "13                     0                  0                  0                    0  \n",
       "14                     0                  0                  0                    0  \n",
       "19                     0                  0                  0                    0  \n",
       "20                     0                  0                  0                    1  \n",
       "21                     0                  0                  0                    0  \n",
       "25                     0                  0                  0                    0  \n",
       "26                     0                  0                  0                    0  "
      ]
     },
     "execution_count": 7,
     "metadata": {},
     "output_type": "execute_result"
    }
   ],
   "source": [
    "a =df[['Individual_Key','FSV_CMSI_Flag', 'FSV_Credit_Card_Flag', 'FSV_Deposit_Program_Flag', \n",
    " 'FSV_Home_Equity_Flag', 'FSV_ID_Theft_Flag', 'FSV_Mortgage_Flag','TRV_Globalware_Flag']]\n",
    "df_temp = a.drop_duplicates(subset=None, keep='first', inplace=False)\n",
    "print(df.shape)\n",
    "print(a.shape)\n",
    "print(df_temp.shape)\n",
    "df_temp[:10]\n",
    "#df['Product_Count']"
   ]
  },
  {
   "cell_type": "code",
   "execution_count": 8,
   "metadata": {},
   "outputs": [
    {
     "data": {
      "text/plain": [
       "FSV_CMSI_Flag               0\n",
       "FSV_Credit_Card_Flag        1\n",
       "FSV_Deposit_Program_Flag    0\n",
       "FSV_Home_Equity_Flag        0\n",
       "FSV_ID_Theft_Flag           0\n",
       "FSV_Mortgage_Flag           0\n",
       "TRV_Globalware_Flag         0\n",
       "Product_Count               1\n",
       "Name: 52211550.0, dtype: int64"
      ]
     },
     "execution_count": 8,
     "metadata": {},
     "output_type": "execute_result"
    }
   ],
   "source": [
    "df_sum = df_temp.set_index('Individual_Key')\n",
    "\n",
    "#Total sum per row: \n",
    "df_sum['Product_Count'] = df_sum.sum(axis=1)\n",
    "df_sum.loc[52211550.0]"
   ]
  },
  {
   "cell_type": "code",
   "execution_count": 9,
   "metadata": {},
   "outputs": [],
   "source": [
    "df_temp = df_sum.reset_index().copy()\n",
    "df_temp.columns\n",
    "df_total = df_temp[['Individual_Key', 'Product_Count']].copy()"
   ]
  },
  {
   "cell_type": "code",
   "execution_count": 10,
   "metadata": {},
   "outputs": [
    {
     "data": {
      "text/plain": [
       "14"
      ]
     },
     "execution_count": 10,
     "metadata": {},
     "output_type": "execute_result"
    }
   ],
   "source": [
    "# find the column index\n",
    "df.columns.get_loc('TRV_Globalware_Flag')"
   ]
  },
  {
   "cell_type": "code",
   "execution_count": 11,
   "metadata": {},
   "outputs": [
    {
     "name": "stdout",
     "output_type": "stream",
     "text": [
      "(21343, 115)\n",
      "Index(['Individual_Key', 'Household_Key', 'Member_Flag', 'City', 'State_-_Grouped',\n",
      "       'ZIP5', 'ZIP9', 'FSV_CMSI_Flag', 'FSV_Credit_Card_Flag',\n",
      "       'FSV_Deposit_Program_Flag',\n",
      "       ...\n",
      "       'SVC_Facility_Type', 'Total_Cost', 'Tow_Destination_Latitude',\n",
      "       'Tow_Destination_Longitude', 'Tow_Destination_Name', 'Was_Duplicated',\n",
      "       'Was_Towed_To_AAR_Referral', 'Member_Tenure_Decile', 'Member_Tenure_Tier',\n",
      "       'Product_Count'],\n",
      "      dtype='object', length=115)\n"
     ]
    }
   ],
   "source": [
    "# adding the product count into the orginal dataset\n",
    "df_result = pd.merge(df, df_total, on='Individual_Key')\n",
    "print(df_result.shape)\n",
    "print(df_result.columns)"
   ]
  },
  {
   "cell_type": "code",
   "execution_count": 12,
   "metadata": {},
   "outputs": [],
   "source": [
    "# add new column to the 1st position\n",
    "df_result.insert(15, 'Total_Products', df_result['Product_Count'])\n",
    "df_result['Total_Products']\n",
    "del df_result['Product_Count']"
   ]
  },
  {
   "cell_type": "code",
   "execution_count": 13,
   "metadata": {},
   "outputs": [
    {
     "name": "stdout",
     "output_type": "stream",
     "text": [
      "[0, 1, 2, 3, 4]\n"
     ]
    }
   ],
   "source": [
    "# a client has max 4 products\n",
    "print(sorted(df_result['Total_Products'].unique()))"
   ]
  },
  {
   "cell_type": "code",
   "execution_count": 14,
   "metadata": {},
   "outputs": [
    {
     "name": "stdout",
     "output_type": "stream",
     "text": [
      "# of Right_Individual_Key not same as Right_Individual_Key:  0\n"
     ]
    }
   ],
   "source": [
    "print(\"# of Right_Individual_Key not same as Right_Individual_Key: \", \\\n",
    "      df_result[df_result['Right_Individual_Key'] != df_result['Individual_Key']].shape[0])\n"
   ]
  },
  {
   "cell_type": "code",
   "execution_count": 15,
   "metadata": {},
   "outputs": [],
   "source": [
    "# delete the column\n",
    "del df_result['Right_Individual_Key']"
   ]
  },
  {
   "cell_type": "code",
   "execution_count": 16,
   "metadata": {},
   "outputs": [
    {
     "name": "stdout",
     "output_type": "stream",
     "text": [
      "['Member_Flag', 'ERS_Member_Cost_Year_1', 'ERS_Member_Cost_Year_2', 'ERS_Member_Cost_Year_3', 'Member_Key', 'Member_Map_Location', 'Member_Number_Associate_ID', 'Member_Phone_Type', 'Member_Status', 'Member_Tenure_Years', 'Member_Type', 'Membership_ID', 'Member_Match_Flag', 'Member_Number_and_Associate_ID', 'Member_Tenure_Decile', 'Member_Tenure_Tier'] \n",
      "\n"
     ]
    }
   ],
   "source": [
    "spike_cols = [col for col in df.columns if 'Member' in col ]\n",
    "print(spike_cols, \"\\n\")"
   ]
  },
  {
   "cell_type": "code",
   "execution_count": 17,
   "metadata": {},
   "outputs": [
    {
     "name": "stdout",
     "output_type": "stream",
     "text": [
      "unique member flag: ['Y']\n",
      "has nan?: 0\n"
     ]
    }
   ],
   "source": [
    "print(\"unique member flag:\", df_result['Member_Flag'].unique())\n",
    "print(\"has nan?:\", df_result[df_result['Member_Flag'].isnull()].shape[0])"
   ]
  },
  {
   "cell_type": "code",
   "execution_count": 18,
   "metadata": {},
   "outputs": [],
   "source": [
    "# all the clients are AAA member - omit it\n",
    "del df_result['Member_Flag']"
   ]
  },
  {
   "cell_type": "code",
   "execution_count": 19,
   "metadata": {},
   "outputs": [
    {
     "data": {
      "text/plain": [
       "Index(['Individual_Key', 'Household_Key', 'City', 'State_-_Grouped', 'ZIP5', 'ZIP9',\n",
       "       'FSV_CMSI_Flag', 'FSV_Credit_Card_Flag', 'FSV_Deposit_Program_Flag',\n",
       "       'FSV_Home_Equity_Flag',\n",
       "       ...\n",
       "       'SVC_Facility_Name', 'SVC_Facility_Type', 'Total_Cost',\n",
       "       'Tow_Destination_Latitude', 'Tow_Destination_Longitude', 'Tow_Destination_Name',\n",
       "       'Was_Duplicated', 'Was_Towed_To_AAR_Referral', 'Member_Tenure_Decile',\n",
       "       'Member_Tenure_Tier'],\n",
       "      dtype='object', length=113)"
      ]
     },
     "execution_count": 19,
     "metadata": {},
     "output_type": "execute_result"
    }
   ],
   "source": [
    "df_result.columns"
   ]
  },
  {
   "cell_type": "code",
   "execution_count": 20,
   "metadata": {},
   "outputs": [
    {
     "data": {
      "text/plain": [
       "19                     Retired - Known\n",
       "21    Office Administration - Inferred\n",
       "22    Office Administration - Inferred\n",
       "23    Office Administration - Inferred\n",
       "24    Office Administration - Inferred\n",
       "Name: Occupation_Group, dtype: object"
      ]
     },
     "execution_count": 20,
     "metadata": {},
     "output_type": "execute_result"
    }
   ],
   "source": [
    "z1 = df_result['Occupation_Group'].dropna()\n",
    "z1.head()"
   ]
  },
  {
   "cell_type": "code",
   "execution_count": 21,
   "metadata": {},
   "outputs": [],
   "source": [
    "# # write the output to data sub-directory\n",
    "root = 'data'\n",
    "df_result.to_csv( root + '/' +'4.total_products_cleanup.csv',index=False)"
   ]
  },
  {
   "cell_type": "code",
   "execution_count": null,
   "metadata": {},
   "outputs": [],
   "source": []
  }
 ],
 "metadata": {
  "kernelspec": {
   "display_name": "Python 3",
   "language": "python",
   "name": "python3"
  },
  "language_info": {
   "codemirror_mode": {
    "name": "ipython",
    "version": 3
   },
   "file_extension": ".py",
   "mimetype": "text/x-python",
   "name": "python",
   "nbconvert_exporter": "python",
   "pygments_lexer": "ipython3",
   "version": "3.6.5"
  }
 },
 "nbformat": 4,
 "nbformat_minor": 2
}
