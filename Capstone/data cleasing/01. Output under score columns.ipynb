{
 "cells": [
  {
   "cell_type": "markdown",
   "metadata": {},
   "source": [
    "##### upload csv file"
   ]
  },
  {
   "cell_type": "code",
   "execution_count": 1,
   "metadata": {},
   "outputs": [],
   "source": [
    "# import numpy and pandas\n",
    "import numpy as np\n",
    "import pandas as pd\n",
    "\n",
    "# used for dates\n",
    "import datetime\n",
    "from datetime import datetime, date\n",
    "\n",
    "# Set some pandas options controlling output format\n",
    "pd.set_option('display.notebook_repr_html', False)\n",
    "pd.set_option('display.max_columns', 8)\n",
    "pd.set_option('display.max_rows', 100)\n",
    "pd.set_option('display.width', 90)\n",
    "\n",
    "# bring in matplotlib for graphics\n",
    "import matplotlib.pyplot as plt\n",
    "%matplotlib inline"
   ]
  },
  {
   "cell_type": "code",
   "execution_count": 2,
   "metadata": {},
   "outputs": [
    {
     "data": {
      "text/plain": [
       "    Unnamed: 0  Individual Key  Household Key Member Flag            ...              \\\n",
       "0            0      10000003.0     10462590.0           Y            ...               \n",
       "1            1      52211550.0      4500791.0           Y            ...               \n",
       "2            2      52211550.0      4500791.0           Y            ...               \n",
       "3            3      52211550.0      4500791.0           Y            ...               \n",
       "4            4      52211550.0      4500791.0           Y            ...               \n",
       "5            5      52211550.0      4500791.0           Y            ...               \n",
       "6            6      52211550.0      4500791.0           Y            ...               \n",
       "7            7      52211550.0      4500791.0           Y            ...               \n",
       "8            8      52211550.0      4500791.0           Y            ...               \n",
       "9            9      52211550.0      4500791.0           Y            ...               \n",
       "10          10       1606764.0      4317516.0           Y            ...               \n",
       "11          11       2766867.0     11622991.0           Y            ...               \n",
       "12          12       2766867.0     11622991.0           Y            ...               \n",
       "13          13       2766867.0     11622991.0           Y            ...               \n",
       "14          14       2766869.0     11622991.0           Y            ...               \n",
       "\n",
       "   Tow Destination Longitude          Tow Destination Name  Was Duplicated  \\\n",
       "0                        NaN                           NaN             NaN   \n",
       "1                      -71.0  Aar / Johnson's Auto Service             0.0   \n",
       "2                        0.0                           NaN             0.0   \n",
       "3                        0.0                           NaN             0.0   \n",
       "4                        0.0                           NaN             0.0   \n",
       "5                        0.0                           NaN             0.0   \n",
       "6                        0.0                           NaN             0.0   \n",
       "7                        0.0                           NaN             0.0   \n",
       "8                        0.0                           NaN             0.0   \n",
       "9                        0.0                           NaN             0.0   \n",
       "10                       NaN                           NaN             NaN   \n",
       "11                       NaN                           NaN             0.0   \n",
       "12                       0.0                           NaN             0.0   \n",
       "13                       0.0                           NaN             0.0   \n",
       "14                       NaN                           NaN             NaN   \n",
       "\n",
       "    Was Towed To AAR Referral  \n",
       "0                         NaN  \n",
       "1                         1.0  \n",
       "2                         0.0  \n",
       "3                         0.0  \n",
       "4                         0.0  \n",
       "5                         0.0  \n",
       "6                         0.0  \n",
       "7                         0.0  \n",
       "8                         0.0  \n",
       "9                         0.0  \n",
       "10                        NaN  \n",
       "11                        0.0  \n",
       "12                        0.0  \n",
       "13                        0.0  \n",
       "14                        NaN  \n",
       "\n",
       "[15 rows x 113 columns]"
      ]
     },
     "execution_count": 2,
     "metadata": {},
     "output_type": "execute_result"
    }
   ],
   "source": [
    "# read in msft.csv into a DataFrame\n",
    "msft = pd.read_csv(\"data\\member_sample.csv\")\n",
    "msft[:15]"
   ]
  },
  {
   "cell_type": "code",
   "execution_count": 3,
   "metadata": {},
   "outputs": [],
   "source": [
    "df = msft.copy()"
   ]
  },
  {
   "cell_type": "code",
   "execution_count": 4,
   "metadata": {},
   "outputs": [
    {
     "data": {
      "text/plain": [
       "(21344, 113)"
      ]
     },
     "execution_count": 4,
     "metadata": {},
     "output_type": "execute_result"
    }
   ],
   "source": [
    "df.shape"
   ]
  },
  {
   "cell_type": "code",
   "execution_count": 5,
   "metadata": {},
   "outputs": [],
   "source": [
    "clist=[]\n",
    "len = df.columns.shape[0]\n",
    "for i in range(1,len):\n",
    "    temp = df.columns[i]\n",
    "    clist.append(temp.replace(\" \",\"_\"))\n",
    "\n",
    "#print(\"column list:\", clist)    "
   ]
  },
  {
   "cell_type": "code",
   "execution_count": 6,
   "metadata": {},
   "outputs": [],
   "source": [
    "# remove unwanted column 0\n",
    "df1 = df.copy()\n",
    "\n",
    "col = df1.columns[0]\n",
    "del df1[col]"
   ]
  },
  {
   "cell_type": "code",
   "execution_count": 7,
   "metadata": {},
   "outputs": [],
   "source": [
    "# rename column names:\n",
    "df1.columns = clist"
   ]
  },
  {
   "cell_type": "code",
   "execution_count": 8,
   "metadata": {},
   "outputs": [
    {
     "data": {
      "text/plain": [
       "Index(['Individual_Key', 'Household_Key', 'Member_Flag', 'City', 'State_-_Grouped',\n",
       "       'ZIP5', 'ZIP9', 'FSV_CMSI_Flag', 'FSV_Credit_Card_Flag',\n",
       "       'FSV_Deposit_Program_Flag',\n",
       "       ...\n",
       "       'SC_Vehicle_Manufacturer_Name', 'SC_Vehicle_Model_Name', 'SVC_Facility_Name',\n",
       "       'SVC_Facility_Type', 'Total_Cost', 'Tow_Destination_Latitude',\n",
       "       'Tow_Destination_Longitude', 'Tow_Destination_Name', 'Was_Duplicated',\n",
       "       'Was_Towed_To_AAR_Referral'],\n",
       "      dtype='object', length=112)"
      ]
     },
     "execution_count": 8,
     "metadata": {},
     "output_type": "execute_result"
    }
   ],
   "source": [
    "df1.columns"
   ]
  },
  {
   "cell_type": "code",
   "execution_count": 12,
   "metadata": {},
   "outputs": [
    {
     "data": {
      "text/plain": [
       "20                     Retired - Known\n",
       "22    Office Administration - Inferred\n",
       "23    Office Administration - Inferred\n",
       "24    Office Administration - Inferred\n",
       "25    Office Administration - Inferred\n",
       "Name: Occupation_Group, dtype: object"
      ]
     },
     "execution_count": 12,
     "metadata": {},
     "output_type": "execute_result"
    }
   ],
   "source": [
    "# x = df1['Occupation_Group'].dropna()\n",
    "# x.head()"
   ]
  },
  {
   "cell_type": "code",
   "execution_count": 13,
   "metadata": {},
   "outputs": [],
   "source": [
    "# write the output to data sub-directory\n",
    "root = 'data'\n",
    "df1.to_csv( root + '/' +'1.member_column_cleanup.csv',index=False)"
   ]
  },
  {
   "cell_type": "code",
   "execution_count": null,
   "metadata": {},
   "outputs": [],
   "source": []
  }
 ],
 "metadata": {
  "kernelspec": {
   "display_name": "Python 3",
   "language": "python",
   "name": "python3"
  },
  "language_info": {
   "codemirror_mode": {
    "name": "ipython",
    "version": 3
   },
   "file_extension": ".py",
   "mimetype": "text/x-python",
   "name": "python",
   "nbconvert_exporter": "python",
   "pygments_lexer": "ipython3",
   "version": "3.6.5"
  }
 },
 "nbformat": 4,
 "nbformat_minor": 2
}
