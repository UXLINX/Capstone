{
 "cells": [
  {
   "cell_type": "code",
   "execution_count": 1,
   "metadata": {},
   "outputs": [],
   "source": [
    "# qualify on member status active only:"
   ]
  },
  {
   "cell_type": "code",
   "execution_count": 2,
   "metadata": {},
   "outputs": [
    {
     "name": "stderr",
     "output_type": "stream",
     "text": [
      "C:\\ProgramData\\Anaconda3\\lib\\site-packages\\sklearn\\ensemble\\weight_boosting.py:29: DeprecationWarning: numpy.core.umath_tests is an internal NumPy module and should not be imported. It will be removed in a future NumPy release.\n",
      "  from numpy.core.umath_tests import inner1d\n"
     ]
    }
   ],
   "source": [
    "# import numpy and pandas\n",
    "import numpy as np\n",
    "import pandas as pd\n",
    "from sklearn.model_selection import train_test_split\n",
    "from sklearn.ensemble import RandomForestRegressor, RandomForestClassifier\n",
    "from sklearn import datasets\n",
    "from sklearn.feature_selection import SelectFromModel\n",
    "from sklearn.metrics import accuracy_score\n",
    "from sklearn.preprocessing import StandardScaler\n",
    "import seaborn as sns\n",
    "\n",
    "from sklearn.discriminant_analysis import LinearDiscriminantAnalysis as LDA\n",
    "from sklearn import metrics\n",
    "\n",
    "# used for dates\n",
    "import datetime\n",
    "from datetime import datetime, date\n",
    "\n",
    "# Set some pandas options controlling output format\n",
    "pd.set_option('display.notebook_repr_html', False)\n",
    "pd.set_option('display.max_columns', 8)\n",
    "pd.set_option('display.max_rows', 100)\n",
    "pd.set_option('display.width', 90)\n",
    "\n",
    "# bring in matplotlib for graphics\n",
    "import matplotlib.pyplot as plt\n",
    "%matplotlib inline"
   ]
  },
  {
   "cell_type": "markdown",
   "metadata": {},
   "source": [
    "### upload .png files"
   ]
  },
  {
   "cell_type": "code",
   "execution_count": 3,
   "metadata": {},
   "outputs": [],
   "source": [
    "br = '\\n'\n",
    "# upload files\n",
    "\n",
    "df = np.load('data/df.npy')\n",
    "df_features = np.load('data/features.npy')"
   ]
  },
  {
   "cell_type": "code",
   "execution_count": 4,
   "metadata": {},
   "outputs": [
    {
     "name": "stdout",
     "output_type": "stream",
     "text": [
      "['Household_Key' 'Individual_Key' 'City' 'State_Grouped' 'ZIP5' 'ZIP9'\n",
      " 'FSV_CMSI_Flag' 'FSV_Credit_Card_Flag' 'FSV_Deposit_Program_Flag'\n",
      " 'FSV_Home_Equity_Flag' 'FSV_ID_Theft_Flag' 'FSV_Mortgage_Flag'\n",
      " 'INS_Client_Flag' 'TRV_Globalware_Flag' 'Number_of_Children'\n",
      " 'Responded_to_Catalog' 'Race' 'Length_Of_Residence' 'Mail_Responder'\n",
      " 'Home_Owner' 'Income' 'Date_Of_Birth' 'Age' 'Children' 'Education'\n",
      " 'Dwelling_Type' 'Credit_Ranges' 'Language' 'Gender' 'Branch_Name'\n",
      " 'County' 'Join_AAA_Date' 'Member_Phone_Type' 'Member_Status'\n",
      " 'Member_Tenure_Years' 'Member_Type' 'Reinstate_Date' 'Renew_Method' 'ZIP'\n",
      " 'Mosaic_Household' 'Mosaic_Global_Household' 'kcl_B_IND_MosaicsGrouping'\n",
      " 'New_Mover_Flag' 'Occupation_Code' 'Occupation_Group'\n",
      " 'Right_Dwelling_Type' 'Move_Distance' 'Occupant_Type' 'Membership_Level'\n",
      " 'Roadside_Service' '_memeber_count' '_service_cnt' '_total_cost'\n",
      " '_total_products' '_ERS_ENT_Count_Year_1' '_ERS_ENT_Count_Year_2'\n",
      " '_ERS_ENT_Count_Year_3' '_ERS_Member_Cost_Year_1'\n",
      " '_ERS_Member_Cost_Year_2' '_ERS_Member_Cost_Year_3']\n"
     ]
    }
   ],
   "source": [
    "print(df_features)"
   ]
  },
  {
   "cell_type": "code",
   "execution_count": 5,
   "metadata": {},
   "outputs": [
    {
     "data": {
      "text/plain": [
       "  Household_Key Individual_Key      City State_Grouped  ... _ERS_ENT_Count_Year_3  \\\n",
       "0           875         717785  CRANSTON            RI  ...                     9   \n",
       "1           969          19943  JOHNSTON            RI  ...                    27   \n",
       "2          8718         199385  CRANSTON            RI  ...                     0   \n",
       "3         11524       52285851  JOHNSTON            RI  ...                     1   \n",
       "4         13422      170834500  COVENTRY            RI  ...                     0   \n",
       "\n",
       "  _ERS_Member_Cost_Year_1 _ERS_Member_Cost_Year_2 _ERS_Member_Cost_Year_3  \n",
       "0                  2118.6                  2118.6                 3197.57  \n",
       "1                       0                  940.85                 2710.71  \n",
       "2                       0                       0                       0  \n",
       "3                       0                       0                      53  \n",
       "4                   58.85                       0                       0  \n",
       "\n",
       "[5 rows x 60 columns]"
      ]
     },
     "execution_count": 5,
     "metadata": {},
     "output_type": "execute_result"
    }
   ],
   "source": [
    "dfv = pd.DataFrame(df, columns=df_features)\n",
    "dfv.head()"
   ]
  },
  {
   "cell_type": "code",
   "execution_count": 6,
   "metadata": {},
   "outputs": [],
   "source": [
    "dfv['Member_Status'].unique()\n",
    "df_temp = dfv[dfv['Member_Status'] == 'ACTIVE'].copy()"
   ]
  },
  {
   "cell_type": "code",
   "execution_count": 7,
   "metadata": {},
   "outputs": [],
   "source": [
    "# # select the columns from above data\n",
    "# li =  ['Home_Owner', 'Age', 'Length_Of_Residence', 'Member_Tenure_Years', \n",
    "#        'New_Mover_Flag', 'Education', 'Dwelling_Type', '_total_products']\n",
    "# li\n"
   ]
  },
  {
   "cell_type": "code",
   "execution_count": 8,
   "metadata": {},
   "outputs": [
    {
     "data": {
      "text/plain": [
       "['Home_Owner',\n",
       " 'Age',\n",
       " 'Length_Of_Residence',\n",
       " 'Member_Tenure_Years',\n",
       " 'New_Mover_Flag',\n",
       " 'Credit_Ranges',\n",
       " 'Children',\n",
       " 'Education',\n",
       " 'Dwelling_Type',\n",
       " '_total_products']"
      ]
     },
     "execution_count": 8,
     "metadata": {},
     "output_type": "execute_result"
    }
   ],
   "source": [
    "li = ['Home_Owner', 'Age', 'Length_Of_Residence', \\\n",
    "      'Member_Tenure_Years', 'New_Mover_Flag', 'Credit_Ranges', 'Children', 'Education', 'Dwelling_Type', '_total_products']\n",
    "li"
   ]
  },
  {
   "cell_type": "code",
   "execution_count": 9,
   "metadata": {},
   "outputs": [
    {
     "name": "stdout",
     "output_type": "stream",
     "text": [
      "subset df shape: (1971, 10)  orignal df shape: (3219, 60)\n"
     ]
    }
   ],
   "source": [
    "df1= df_temp[li].copy()\n",
    "df2 = df1.dropna()\n",
    "subdf = df2.drop_duplicates()\n",
    "print(\"subset df shape:\", subdf.shape, \" orignal df shape:\", df.shape )\n"
   ]
  },
  {
   "cell_type": "code",
   "execution_count": 10,
   "metadata": {},
   "outputs": [
    {
     "name": "stdout",
     "output_type": "stream",
     "text": [
      "        Home_Owner   Age  Length_Of_Residence  Member_Tenure_Years New_Mover_Flag\n",
      "count         1971  1971                 1971                 1971           1971\n",
      "unique           4    68                   32                   77              2\n",
      "top     Home.Owner    75                   15                   47              N\n",
      "freq          1903   226                 1039                  355           1917\n",
      "----------------------------------------------------------------------------------------------------\n",
      "       Children     Education Dwelling_Type  _total_products\n",
      "count      1971          1971          1971             1971\n",
      "unique        2             5             4                7\n",
      "top          No  Some.College          SFDU                0\n",
      "freq       1040           579          1700             1213\n"
     ]
    }
   ],
   "source": [
    "# percentile list \n",
    "perc =[.20, .40, .60, .80] \n",
    "# list of dtypes to include \n",
    "include =['object', 'float', 'int'] \n",
    "desc = subdf.describe(percentiles = perc, include = include) \n",
    "print(desc.iloc[:,0:5])\n",
    "print(\"--\"*50)\n",
    "print(desc.iloc[:,6:11])\n"
   ]
  },
  {
   "cell_type": "markdown",
   "metadata": {},
   "source": [
    "# X,y"
   ]
  },
  {
   "cell_type": "code",
   "execution_count": 11,
   "metadata": {},
   "outputs": [],
   "source": [
    "def yes_or_no(x):\n",
    "    if x > 0:\n",
    "        return 1\n",
    "    elif x == 0:\n",
    "        return 0\n",
    "    else:\n",
    "        return np.NaN  "
   ]
  },
  {
   "cell_type": "code",
   "execution_count": 12,
   "metadata": {},
   "outputs": [
    {
     "name": "stdout",
     "output_type": "stream",
     "text": [
      "['Home_Owner', 'Age', 'Length_Of_Residence', 'Member_Tenure_Years', 'New_Mover_Flag', 'Credit_Ranges', 'Children', 'Education', 'Dwelling_Type']\n",
      "----------------------------------------------------------------------------------------------------\n",
      "target y: _total_products\n",
      "max y: 1\n",
      "y is [0 1 1 ... 0 0 1]\n",
      "   Home_Owner Age Length_Of_Residence Member_Tenure_Years  ... Credit_Ranges Children  \\\n",
      "1  Home.Owner  77                  15                  54  ...          800+       No   \n",
      "2  Home.Owner  68                  15                  13  ...          800+       No   \n",
      "3  Home.Owner  76                  15                  44  ...       700-749       No   \n",
      "4  Home.Owner  70                  15                  49  ...       650-699       No   \n",
      "6  Home.Owner  73                  15                  14  ...       750-799      Yes   \n",
      "\n",
      "          Education Dwelling_Type  \n",
      "1       High.School          SFDU  \n",
      "2      Some.College          SFDU  \n",
      "3       High.School          SFDU  \n",
      "4  Graduated.School          SFDU  \n",
      "6       High.School          SFDU  \n",
      "\n",
      "[5 rows x 9 columns]\n"
     ]
    }
   ],
   "source": [
    "# data_X\n",
    "select_col = li[:-1]\n",
    "print(select_col)\n",
    "print(\"--\"*50)\n",
    "y_col = li[-1]\n",
    "print(\"target y:\", y_col)\n",
    "\n",
    "#split the dataset to X & y:\n",
    "X = subdf.drop([y_col], axis=1).values\n",
    "fix_y = subdf[y_col].apply(yes_or_no)\n",
    "#fix_y = subdf[y_col].copy()\n",
    "print(\"max y:\", fix_y.max())\n",
    "y = fix_y.values\n",
    "print(\"y is\", y)\n",
    "\n",
    "# data_X contains only X\n",
    "data_X = subdf[select_col].copy()\n",
    "print(data_X.head())"
   ]
  },
  {
   "cell_type": "markdown",
   "metadata": {},
   "source": [
    "### Machine Learning algorithms only operate on numberical data"
   ]
  },
  {
   "cell_type": "code",
   "execution_count": 13,
   "metadata": {},
   "outputs": [
    {
     "data": {
      "text/plain": [
       "Home_Owner               Home.Owner\n",
       "Age                              70\n",
       "Length_Of_Residence              13\n",
       "Member_Tenure_Years              47\n",
       "New_Mover_Flag                    N\n",
       "Credit_Ranges               700-749\n",
       "Children                        Yes\n",
       "Education              Some.College\n",
       "Dwelling_Type                  SFDU\n",
       "Name: 86, dtype: object"
      ]
     },
     "execution_count": 13,
     "metadata": {},
     "output_type": "execute_result"
    }
   ],
   "source": [
    "subdf[select_col].iloc[50]"
   ]
  },
  {
   "cell_type": "markdown",
   "metadata": {},
   "source": [
    "### Encoding"
   ]
  },
  {
   "cell_type": "code",
   "execution_count": 14,
   "metadata": {},
   "outputs": [
    {
     "name": "stdout",
     "output_type": "stream",
     "text": [
      "selected columns: ['Home_Owner', 'Education', 'Dwelling_Type', 'New_Mover_Flag', 'Credit_Ranges', 'Children']\n"
     ]
    },
    {
     "data": {
      "text/plain": [
       "Index(['Age', 'Length_Of_Residence', 'Member_Tenure_Years', 'Home_Owner_Home.Owner',\n",
       "       'Home_Owner_Probable.Home.Owner', 'Home_Owner_Probable.Renter',\n",
       "       'Home_Owner_Renter', 'Education_Completed.College', 'Education_Graduated.School',\n",
       "       'Education_High.School', 'Education_Some.College', 'Education_Unknown',\n",
       "       'Dwelling_Type_Large.multi.family', 'Dwelling_Type_P.O.BOX', 'Dwelling_Type_SFDU',\n",
       "       'Dwelling_Type_Small.or.large.multi.family', 'New_Mover_Flag_N',\n",
       "       'New_Mover_Flag_Y', 'Credit_Ranges_499.Less', 'Credit_Ranges_500-549',\n",
       "       'Credit_Ranges_550-599', 'Credit_Ranges_600-649', 'Credit_Ranges_650-699',\n",
       "       'Credit_Ranges_700-749', 'Credit_Ranges_750-799', 'Credit_Ranges_800+',\n",
       "       'Credit_Ranges_Unknown', 'Children_No', 'Children_Yes'],\n",
       "      dtype='object')"
      ]
     },
     "execution_count": 14,
     "metadata": {},
     "output_type": "execute_result"
    }
   ],
   "source": [
    "# columns numbers only \n",
    "data_X['Member_Tenure_Years'].astype(int)\n",
    "cat_vars = ['Home_Owner', 'Education', 'Dwelling_Type', 'New_Mover_Flag', 'Credit_Ranges', 'Children']\n",
    "print(\"selected columns:\", cat_vars)\n",
    "\n",
    "data_new = pd.get_dummies(data_X, columns=cat_vars)\n",
    "data_new.columns\n",
    "#print(\"features: \\n\", list(data_new))"
   ]
  },
  {
   "cell_type": "code",
   "execution_count": 15,
   "metadata": {},
   "outputs": [
    {
     "name": "stdout",
     "output_type": "stream",
     "text": [
      "(1971, 29) (1971,)\n",
      "----------------------------------------------------------------------------------------------------\n",
      "X attributes: \n",
      " ['Home_Owner', 'Age', 'Length_Of_Residence', 'Member_Tenure_Years', 'New_Mover_Flag', 'Credit_Ranges', 'Children', 'Education', 'Dwelling_Type']\n",
      "----------------------------------------------------------------------------------------------------\n",
      "  Age Length_Of_Residence Member_Tenure_Years  Home_Owner_Home.Owner  ...  \\\n",
      "1  77                  15                  54                      1  ...   \n",
      "2  68                  15                  13                      1  ...   \n",
      "3  76                  15                  44                      1  ...   \n",
      "4  70                  15                  49                      1  ...   \n",
      "6  73                  15                  14                      1  ...   \n",
      "\n",
      "   Credit_Ranges_800+  Credit_Ranges_Unknown  Children_No  Children_Yes  \n",
      "1                   1                      0            1             0  \n",
      "2                   1                      0            1             0  \n",
      "3                   0                      0            1             0  \n",
      "4                   0                      0            1             0  \n",
      "6                   0                      0            0             1  \n",
      "\n",
      "[5 rows x 29 columns]\n"
     ]
    }
   ],
   "source": [
    "X = data_new\n",
    "y = y\n",
    "print(X.shape, y.shape)\n",
    "print(\"--\"*50)\n",
    "attributes = list(data_X)\n",
    "print(\"X attributes: \\n\", attributes)\n",
    "print(\"--\"*50)\n",
    "print(X.head())"
   ]
  },
  {
   "cell_type": "markdown",
   "metadata": {},
   "source": [
    "### save encoded png files"
   ]
  },
  {
   "cell_type": "code",
   "execution_count": 16,
   "metadata": {},
   "outputs": [],
   "source": [
    "file_X_init = 'data/X_init'\n",
    "np.save(file_X_init, X)\n",
    "\n",
    "file_y_init = 'data/y_init'\n",
    "np.save(file_y_init, y)"
   ]
  },
  {
   "cell_type": "code",
   "execution_count": 17,
   "metadata": {},
   "outputs": [],
   "source": [
    "### target y can only be bollean "
   ]
  },
  {
   "cell_type": "code",
   "execution_count": 18,
   "metadata": {},
   "outputs": [
    {
     "data": {
      "text/plain": [
       "RandomForestClassifier(bootstrap=True, class_weight=None, criterion='gini',\n",
       "            max_depth=None, max_features='auto', max_leaf_nodes=None,\n",
       "            min_impurity_decrease=0.0, min_impurity_split=None,\n",
       "            min_samples_leaf=1, min_samples_split=2,\n",
       "            min_weight_fraction_leaf=0.0, n_estimators=100, n_jobs=1,\n",
       "            oob_score=False, random_state=0, verbose=0, warm_start=False)"
      ]
     },
     "execution_count": 18,
     "metadata": {},
     "output_type": "execute_result"
    }
   ],
   "source": [
    "# Random Forest Classifier\n",
    "rf = RandomForestClassifier(random_state=0,n_estimators=100)\n",
    "# Train the classifier\n",
    "rf.fit(X,y)"
   ]
  },
  {
   "cell_type": "code",
   "execution_count": 19,
   "metadata": {},
   "outputs": [
    {
     "data": {
      "text/plain": [
       "[('Home_Owner', 0.3029418730366475),\n",
       " ('Length_Of_Residence', 0.2823468086585444),\n",
       " ('Age', 0.14492657316603202),\n",
       " ('Education', 0.017072585318052884),\n",
       " ('Dwelling_Type', 0.007014211165610727),\n",
       " ('Member_Tenure_Years', 0.006331666019897733),\n",
       " ('Children', 0.006290050799254558),\n",
       " ('Credit_Ranges', 0.00014034406536185128),\n",
       " ('New_Mover_Flag', 0.00013771760965277738)]"
      ]
     },
     "execution_count": 19,
     "metadata": {},
     "output_type": "execute_result"
    }
   ],
   "source": [
    "# Print the name and gini importance of each feature\n",
    "feat_labels = attributes\n",
    "feat_list=[]\n",
    "for feature in zip(feat_labels, rf.feature_importances_):\n",
    "    feat_list.append(feature)\n",
    "\n",
    "feat_list.sort(key=lambda x:x[1], reverse=True) #To sort by first element of the tuple   \n",
    "feat_list"
   ]
  },
  {
   "cell_type": "code",
   "execution_count": 20,
   "metadata": {},
   "outputs": [],
   "source": [
    "ds = pd.DataFrame(feat_list)\n",
    "ds.columns =[['cols','imp']]"
   ]
  },
  {
   "cell_type": "code",
   "execution_count": 21,
   "metadata": {},
   "outputs": [
    {
     "data": {
      "text/plain": [
       "                  cols       imp\n",
       "0           Home_Owner  0.302942\n",
       "1  Length_Of_Residence  0.282347\n",
       "2                  Age  0.144927\n",
       "3            Education  0.017073\n",
       "4        Dwelling_Type  0.007014\n",
       "5  Member_Tenure_Years  0.006332\n",
       "6             Children  0.006290\n",
       "7        Credit_Ranges  0.000140\n",
       "8       New_Mover_Flag  0.000138"
      ]
     },
     "execution_count": 21,
     "metadata": {},
     "output_type": "execute_result"
    }
   ],
   "source": [
    "ds"
   ]
  },
  {
   "cell_type": "code",
   "execution_count": 22,
   "metadata": {},
   "outputs": [],
   "source": [
    "# write the output to data sub-directory\n",
    "root = 'data'\n",
    "ds.to_csv( root + '/' +'Random_Forest_Feature_Importance.csv',index=False)"
   ]
  },
  {
   "cell_type": "code",
   "execution_count": 23,
   "metadata": {},
   "outputs": [],
   "source": [
    "# import matplotlib.pyplot as plt\n",
    "# import numpy as np\n",
    "\n",
    "# # Data + parameters\n",
    "# fontsize = 20\n",
    "# xticklabels = ds['cols']\n",
    "# ds_plot= ds.set_index('cols').copy()\n",
    "\n",
    "# # Plotting\n",
    "# fig = plt.figure(1)\n",
    "# ax = fig.add_subplot(111)\n",
    "# ds_plot.plot(kind=\"bar\")\n",
    "# ax.tick_params(axis='both', which='major', labelsize=fontsize)\n",
    "# ax.set_xticklabels(xticklabels, rotation = 45)\n",
    "# fig.savefig('test_rotation.png', dpi=300, format='png', bbox_inches='tight')"
   ]
  },
  {
   "cell_type": "markdown",
   "metadata": {},
   "source": [
    "Clearly Home_Owner is the most important feature, followed by Length of Residence and Age. \n",
    "The majority of the features seems to have little importance in the final model. \n",
    "Let’s verify this statement by removing these features and checking whether this affects the model’s performance.\n",
    "\n",
    "So, we will build a random forest model using only the features that have the best feature importance"
   ]
  },
  {
   "cell_type": "markdown",
   "metadata": {},
   "source": [
    "When you think about it, removing redundant columns should not decrease the model score, right? \n",
    "And in this case, the model performance has slightly improved. Some of the features we dropped earlier \n",
    "might have been highly collinear with others, so removing them did not affect the model adversely. \n",
    "Let’s check feature importance again to verify our hypothesis:"
   ]
  },
  {
   "cell_type": "markdown",
   "metadata": {},
   "source": [
    "*********************************\n",
    "The difference between the feature importance of the YearMade and Coupler_System variables is more significant. From the list of features removed, some features were highly collinear to YearMade, resulting in distribution of feature importance between them.\n",
    "\n",
    "On removing these features, we can see that the difference between the importance of YearMade and CouplerSystem has increased from the previous plot. Here is a detailed explanation of how feature importance is actually calculated:\n",
    "\n",
    "Calculate the r-square considering all the columns: Suppose in this case it comes out to be 0.89\n",
    "Now randomly shuffle the values for any one column, say YearMade. This column has no relation to the target variable\n",
    "Calculate the r-square again: The r-square has dropped to 0.8. This shows that the YearMade variable is an important feature\n",
    "Take another variable, say Enclosure, and shuffle it randomly\n",
    "Calculate the r-square:  Now let’s say the r-square is coming to be 0.84. This indicates that the variable is important but comparatively less so than the YearMade variable\n",
    "And that wraps up the implementation of lesson #3! I encourage you to try out these codes and experiment with them on your own machine to truly understand how each aspect of a random forest model works."
   ]
  },
  {
   "cell_type": "code",
   "execution_count": 24,
   "metadata": {},
   "outputs": [
    {
     "data": {
      "text/plain": [
       "['Home_Owner',\n",
       " 'Length_Of_Residence',\n",
       " 'Age',\n",
       " 'Education',\n",
       " 'Dwelling_Type',\n",
       " 'Member_Tenure_Years',\n",
       " 'Children',\n",
       " 'Credit_Ranges',\n",
       " 'New_Mover_Flag']"
      ]
     },
     "execution_count": 24,
     "metadata": {},
     "output_type": "execute_result"
    }
   ],
   "source": [
    "rankli = []\n",
    "\n",
    "for i in range(len(feat_list)):\n",
    "    #print(feat_list[i][0])\n",
    "    rankli.append(feat_list[i][0])\n",
    "    \n",
    "rankli"
   ]
  },
  {
   "cell_type": "code",
   "execution_count": 25,
   "metadata": {},
   "outputs": [],
   "source": [
    "# Split the data into 40% test and 60% training\n",
    "X_train, X_test, y_train, y_test = train_test_split(X, y, test_size=0.4, random_state=0)\n"
   ]
  },
  {
   "cell_type": "code",
   "execution_count": 26,
   "metadata": {},
   "outputs": [],
   "source": [
    "def rmse(x,y): return math.sqrt(((x-y)**2).mean())\n",
    "\n",
    "def print_score(m):\n",
    "    res = [rmse(m.predict(X_train), y_train), rmse(m.predict(X_test), y_test),\n",
    "                m.score(X_train, y_train), m.score(X_test, y_test)]\n",
    "    if hasattr(m, 'oob_score_'): res.append(m.oob_score_)\n",
    "    print(res)"
   ]
  },
  {
   "cell_type": "code",
   "execution_count": 27,
   "metadata": {},
   "outputs": [
    {
     "name": "stdout",
     "output_type": "stream",
     "text": [
      "Wall time: 132 ms\n",
      "[0.2276207535876485, 0.5402314709895849, 0.7786881453568953, -0.21552961269301796]\n"
     ]
    }
   ],
   "source": [
    "import math\n",
    "\n",
    "m = RandomForestRegressor(n_jobs=-1)\n",
    "%time m.fit(X_train, y_train)\n",
    "print_score(m)"
   ]
  },
  {
   "cell_type": "markdown",
   "metadata": {},
   "source": [
    "The coefficient R^2 is defined as (1 - u/v), where u is the residual sum of squares ((y_true - y_pred) ** 2).sum() and v is the total sum of squares ((y_true - y_true.mean()) ** 2).sum(). The best possible score is 1.0 and it can be negative (because the model can be arbitrarily worse). A constant model that always predicts the expected value of y, disregarding the input features, would get a R^2 score of 0.0."
   ]
  },
  {
   "cell_type": "markdown",
   "metadata": {},
   "source": [
    "The test set r^2 in -23% only (and the RMSLE is 0.54), and we can see from the test set score that we're over-fitting badly. To understand this issue, let's simplify things down to a single small tree."
   ]
  },
  {
   "cell_type": "code",
   "execution_count": 28,
   "metadata": {},
   "outputs": [
    {
     "name": "stdout",
     "output_type": "stream",
     "text": [
      "[0.471347519915884, 0.49621023773336453, 0.05100610926474958, -0.02550368129732461]\n"
     ]
    }
   ],
   "source": [
    "# Singel Tree\n",
    "\n",
    "m = RandomForestRegressor(n_estimators=1, max_depth=3, bootstrap=False, n_jobs=-1)\n",
    "m.fit(X_train, y_train)\n",
    "print_score(m)"
   ]
  },
  {
   "cell_type": "code",
   "execution_count": 29,
   "metadata": {},
   "outputs": [
    {
     "name": "stdout",
     "output_type": "stream",
     "text": [
      "[0.059372541656591366, 0.693406490891916, 0.9849425217072275, -1.0025417926691107]\n"
     ]
    }
   ],
   "source": [
    "# bigger tree\n",
    "m = RandomForestRegressor(n_estimators=1, bootstrap=False, n_jobs=-1)\n",
    "m.fit(X_train, y_train)\n",
    "print_score(m)"
   ]
  },
  {
   "cell_type": "markdown",
   "metadata": {},
   "source": [
    "The bigger tree has better R^2 values. Traning: 0.05 -> 0.98 & Test: -0.02 -> -100\n",
    "\n",
    "orignal: \n",
    "Wall time: 130 ms\n",
    "[0.2296377665650955, 0.5426498310912191, 0.7747485513966501, -0.22643667030564998]\n",
    "\n",
    "The training set result looks great! And test set is better than our original model. "
   ]
  },
  {
   "cell_type": "code",
   "execution_count": 30,
   "metadata": {},
   "outputs": [],
   "source": [
    "preds = np.stack([t.predict(X_test) for t in m.estimators_])"
   ]
  },
  {
   "cell_type": "code",
   "execution_count": 31,
   "metadata": {},
   "outputs": [
    {
     "data": {
      "text/plain": [
       "(1, 789)"
      ]
     },
     "execution_count": 31,
     "metadata": {},
     "output_type": "execute_result"
    }
   ],
   "source": [
    "preds.shape"
   ]
  },
  {
   "cell_type": "code",
   "execution_count": 32,
   "metadata": {},
   "outputs": [],
   "source": [
    "#The dimensions of the predictions is (1, 789). This means we have 1 predictions for each row in the validation set."
   ]
  },
  {
   "cell_type": "code",
   "execution_count": 33,
   "metadata": {},
   "outputs": [
    {
     "data": {
      "text/plain": [
       "(array([1.]), 1.0, 0)"
      ]
     },
     "execution_count": 33,
     "metadata": {},
     "output_type": "execute_result"
    }
   ],
   "source": [
    "preds[:,0], np.mean(preds[:,0]), y_test[0]"
   ]
  },
  {
   "cell_type": "code",
   "execution_count": 34,
   "metadata": {},
   "outputs": [],
   "source": [
    "%matplotlib inline\n",
    "import numpy as np\n",
    "import matplotlib.pyplot as plt\n",
    "import seaborn as sns; sns.set()"
   ]
  },
  {
   "cell_type": "code",
   "execution_count": null,
   "metadata": {},
   "outputs": [],
   "source": []
  },
  {
   "cell_type": "code",
   "execution_count": 35,
   "metadata": {},
   "outputs": [
    {
     "data": {
      "image/png": "[encoded data removed]",
      "text/plain": [
       "<Figure size 432x288 with 1 Axes>"
      ]
     },
     "metadata": {},
     "output_type": "display_data"
    }
   ],
   "source": [
    "plt.plot([metrics.r2_score(y_test, np.mean(preds[:i+1], axis=0)) for i in range(10)]);"
   ]
  },
  {
   "cell_type": "markdown",
   "metadata": {},
   "source": [
    "the r^2 is constant regardless the number of trees increases. \n",
    "The shape of this curve suggests that adding more trees isn't going to help us much. Let's check. (Compare this to our original model on a sample)"
   ]
  },
  {
   "cell_type": "code",
   "execution_count": 36,
   "metadata": {},
   "outputs": [
    {
     "name": "stdout",
     "output_type": "stream",
     "text": [
      "[0.21364855822069112, 0.5283207896874222, 0.8050241165769842, -0.1625220110519754]\n"
     ]
    }
   ],
   "source": [
    "m = RandomForestRegressor(n_estimators=20, n_jobs=-1)\n",
    "m.fit(X_train, y_train)\n",
    "print_score(m)"
   ]
  },
  {
   "cell_type": "code",
   "execution_count": 37,
   "metadata": {},
   "outputs": [
    {
     "name": "stdout",
     "output_type": "stream",
     "text": [
      "[0.20494438330704987, 0.5209971854642338, 0.8205873730560311, -0.13051554225514272]\n"
     ]
    }
   ],
   "source": [
    "m = RandomForestRegressor(n_estimators=40, n_jobs=-1)\n",
    "m.fit(X_train, y_train)\n",
    "print_score(m)"
   ]
  },
  {
   "cell_type": "code",
   "execution_count": 38,
   "metadata": {},
   "outputs": [
    {
     "name": "stdout",
     "output_type": "stream",
     "text": [
      "[0.19657001207328179, 0.5187442983504277, 0.8349500136737713, -0.12075956934149312]\n"
     ]
    }
   ],
   "source": [
    "m = RandomForestRegressor(n_estimators=80, n_jobs=-1)\n",
    "m.fit(X_train, y_train)\n",
    "print_score(m)"
   ]
  },
  {
   "cell_type": "markdown",
   "metadata": {},
   "source": [
    "Feature importance is one of the key aspects of a machine learning model. Understanding which variable is contributing the most to a model is critical to interpreting the results. This is what data scientists strive for when building models that need to be explained to non-technical stakeholders.\n",
    "\n",
    "Our dataset has multiple features and it is often difficult to understand which feature is dominant. This is where the feature importance function of random forest is so helpful. Let’s look at the top 10 most important features for our current model (including visualizing them by their importance):"
   ]
  },
  {
   "cell_type": "markdown",
   "metadata": {},
   "source": [
    "Removing redundant features\n",
    "So far, we’ve understood that having a high number of features can affect the performance of the model and also make it difficult to interpret the results. In this section, we will see how we can identify redundant features and remove them from the data.\n",
    "\n",
    "We will use cluster analysis, more specifically hierarchical clustering, to identify similar variables. In this technique, we look at every object and identify which of them are the closest in terms of features. These variables are then replaced by their midpoint. To understand this better, let us have a look at the cluster plot for our dataset:"
   ]
  },
  {
   "cell_type": "code",
   "execution_count": 39,
   "metadata": {},
   "outputs": [
    {
     "data": {
      "text/plain": [
       "  Age Length_Of_Residence Member_Tenure_Years  Home_Owner_Home.Owner  ...  \\\n",
       "1  77                  15                  54                      1  ...   \n",
       "2  68                  15                  13                      1  ...   \n",
       "3  76                  15                  44                      1  ...   \n",
       "4  70                  15                  49                      1  ...   \n",
       "6  73                  15                  14                      1  ...   \n",
       "\n",
       "   Credit_Ranges_Unknown  Children_No  Children_Yes  y  \n",
       "1                      0            1             0  0  \n",
       "2                      0            1             0  1  \n",
       "3                      0            1             0  1  \n",
       "4                      0            1             0  1  \n",
       "6                      0            0             1  0  \n",
       "\n",
       "[5 rows x 30 columns]"
      ]
     },
     "execution_count": 39,
     "metadata": {},
     "output_type": "execute_result"
    }
   ],
   "source": [
    "df_keep = data_new.copy()\n",
    "df_keep['y'] = y\n",
    "df_keep.head()\n"
   ]
  },
  {
   "cell_type": "code",
   "execution_count": 40,
   "metadata": {},
   "outputs": [
    {
     "data": {
      "image/png": "[encoded data removed]",
      "text/plain": [
       "<Figure size 1152x720 with 1 Axes>"
      ]
     },
     "metadata": {},
     "output_type": "display_data"
    }
   ],
   "source": [
    "import scipy\n",
    "from scipy.cluster import hierarchy as hc\n",
    "corr = np.round(scipy.stats.spearmanr(df_keep).correlation, 4)\n",
    "corr_condensed = hc.distance.squareform(1-corr)\n",
    "z = hc.linkage(corr_condensed, method='average')\n",
    "fig = plt.figure(figsize=(16,10))\n",
    "dendrogram = hc.dendrogram(z, labels=df_keep.columns,\n",
    "    orientation='left', leaf_font_size=16)\n",
    "plt.show()"
   ]
  },
  {
   "cell_type": "markdown",
   "metadata": {},
   "source": [
    "From the above dendrogram plot, we can see that the Home_Owner and Dwelling_Type are very similar to each other and tend to represent the same thing. Similarly, Age and Member_Tenure_Years are highly correlated. We will remove each of these features one by one and see how it affects the model performance.\n",
    "\n",
    "Once these variables are removed from the original dataframe, the model’s score turns out to be ?0.907 on the validation set."
   ]
  },
  {
   "cell_type": "markdown",
   "metadata": {},
   "source": [
    "It is evident from the tables above that the mean value of these three variables is significantly different. We will drop these variables, fit the random forest again and check the feature importance:\n",
    "\n",
    "Although these variables are obviously time dependent, they can also be important for making the predictions. Before we drop these variables, we need to check how they affect the OOB score. The initial OOB score in a sample is calculated for comparison:\n",
    "\n",
    "Looking at the results, age, MachineID and SaleDayofYear actually improved the score while others did not. So, we will remove the remaining variables and fit the random forest on the complete dataset.\n",
    "\n",
    "After removing the time dependent variables, the validation score (0.915) is now better than the OOB score (0.909). We can now play around with other parameters like n_estimator on max_features. To create the final model, Jeremy increased the number of trees to 160 and here are the results:"
   ]
  },
  {
   "cell_type": "markdown",
   "metadata": {},
   "source": [
    "Train-validation-test: It is important to have a validation set to check the performance of the model before we use it on the test set. It often happens that we end up overfitting our model on the validation set. And if the validation set is not a true representative of the test set, then the model will fail as well. So the complete data should be split into train, validation and test set, where the test set should only be used at the end (and not during parameter tuning)."
   ]
  },
  {
   "cell_type": "code",
   "execution_count": 41,
   "metadata": {},
   "outputs": [
    {
     "name": "stdout",
     "output_type": "stream",
     "text": [
      "<class 'pandas.core.frame.DataFrame'>\n",
      "Int64Index: 3219 entries, 0 to 3218\n",
      "Data columns (total 60 columns):\n",
      " #   Column                     Non-Null Count  Dtype \n",
      "---  ------                     --------------  ----- \n",
      " 0   Household_Key              3219 non-null   object\n",
      " 1   Individual_Key             3219 non-null   object\n",
      " 2   City                       3219 non-null   object\n",
      " 3   State_Grouped              3219 non-null   object\n",
      " 4   ZIP5                       3219 non-null   object\n",
      " 5   ZIP9                       3219 non-null   object\n",
      " 6   FSV_CMSI_Flag              3219 non-null   object\n",
      " 7   FSV_Credit_Card_Flag       3219 non-null   object\n",
      " 8   FSV_Deposit_Program_Flag   3219 non-null   object\n",
      " 9   FSV_Home_Equity_Flag       3219 non-null   object\n",
      " 10  FSV_ID_Theft_Flag          3219 non-null   object\n",
      " 11  FSV_Mortgage_Flag          3219 non-null   object\n",
      " 12  INS_Client_Flag            3219 non-null   object\n",
      " 13  TRV_Globalware_Flag        3219 non-null   object\n",
      " 14  Number_of_Children         2490 non-null   object\n",
      " 15  Responded_to_Catalog       236 non-null    object\n",
      " 16  Race                       2490 non-null   object\n",
      " 17  Length_Of_Residence        3219 non-null   object\n",
      " 18  Mail_Responder             2490 non-null   object\n",
      " 19  Home_Owner                 2432 non-null   object\n",
      " 20  Income                     2483 non-null   object\n",
      " 21  Date_Of_Birth              2241 non-null   object\n",
      " 22  Age                        3219 non-null   object\n",
      " 23  Children                   2490 non-null   object\n",
      " 24  Education                  2490 non-null   object\n",
      " 25  Dwelling_Type              2454 non-null   object\n",
      " 26  Credit_Ranges              2490 non-null   object\n",
      " 27  Language                   2490 non-null   object\n",
      " 28  Gender                     1841 non-null   object\n",
      " 29  Branch_Name                3219 non-null   object\n",
      " 30  County                     3219 non-null   object\n",
      " 31  Join_AAA_Date              3219 non-null   object\n",
      " 32  Member_Phone_Type          2553 non-null   object\n",
      " 33  Member_Status              3219 non-null   object\n",
      " 34  Member_Tenure_Years        3219 non-null   object\n",
      " 35  Member_Type                3219 non-null   object\n",
      " 36  Reinstate_Date             52 non-null     object\n",
      " 37  Renew_Method               3219 non-null   object\n",
      " 38  ZIP                        3219 non-null   object\n",
      " 39  Mosaic_Household           2451 non-null   object\n",
      " 40  Mosaic_Global_Household    2451 non-null   object\n",
      " 41  kcl_B_IND_MosaicsGrouping  2451 non-null   object\n",
      " 42  New_Mover_Flag             3219 non-null   object\n",
      " 43  Occupation_Code            1841 non-null   object\n",
      " 44  Occupation_Group           1841 non-null   object\n",
      " 45  Right_Dwelling_Type        124 non-null    object\n",
      " 46  Move_Distance              96 non-null     object\n",
      " 47  Occupant_Type              113 non-null    object\n",
      " 48  Membership_Level           3219 non-null   object\n",
      " 49  Roadside_Service           3219 non-null   object\n",
      " 50  _memeber_count             3219 non-null   object\n",
      " 51  _service_cnt               3219 non-null   object\n",
      " 52  _total_cost                3219 non-null   object\n",
      " 53  _total_products            3219 non-null   object\n",
      " 54  _ERS_ENT_Count_Year_1      3219 non-null   object\n",
      " 55  _ERS_ENT_Count_Year_2      3219 non-null   object\n",
      " 56  _ERS_ENT_Count_Year_3      3219 non-null   object\n",
      " 57  _ERS_Member_Cost_Year_1    3219 non-null   object\n",
      " 58  _ERS_Member_Cost_Year_2    3219 non-null   object\n",
      " 59  _ERS_Member_Cost_Year_3    3219 non-null   object\n",
      "dtypes: object(60)\n",
      "memory usage: 1.5+ MB\n"
     ]
    }
   ],
   "source": [
    "df_temp.info()"
   ]
  },
  {
   "cell_type": "code",
   "execution_count": 42,
   "metadata": {},
   "outputs": [
    {
     "ename": "NameError",
     "evalue": "name 'df_test' is not defined",
     "output_type": "error",
     "traceback": [
      "\u001b[1;31m---------------------------------------------------------------------------\u001b[0m",
      "\u001b[1;31mNameError\u001b[0m                                 Traceback (most recent call last)",
      "\u001b[1;32m<ipython-input-42-c1e01dd09308>\u001b[0m in \u001b[0;36m<module>\u001b[1;34m()\u001b[0m\n\u001b[0;32m      7\u001b[0m     \u001b[0mdisplay\u001b[0m\u001b[1;33m(\u001b[0m\u001b[0mMarkdown\u001b[0m\u001b[1;33m(\u001b[0m\u001b[0mdf_formatted\u001b[0m\u001b[1;33m.\u001b[0m\u001b[0mto_csv\u001b[0m\u001b[1;33m(\u001b[0m\u001b[0msep\u001b[0m\u001b[1;33m=\u001b[0m\u001b[1;34m\"|\"\u001b[0m\u001b[1;33m,\u001b[0m \u001b[0mindex\u001b[0m\u001b[1;33m=\u001b[0m\u001b[1;32mFalse\u001b[0m\u001b[1;33m)\u001b[0m\u001b[1;33m)\u001b[0m\u001b[1;33m)\u001b[0m\u001b[1;33m\u001b[0m\u001b[0m\n\u001b[0;32m      8\u001b[0m \u001b[1;33m\u001b[0m\u001b[0m\n\u001b[1;32m----> 9\u001b[1;33m \u001b[0mpandas_df_to_markdown_table\u001b[0m\u001b[1;33m(\u001b[0m\u001b[0mdf_test\u001b[0m\u001b[1;33m)\u001b[0m\u001b[1;33m\u001b[0m\u001b[0m\n\u001b[0m",
      "\u001b[1;31mNameError\u001b[0m: name 'df_test' is not defined"
     ]
    }
   ],
   "source": [
    "def pandas_df_to_markdown_table(df):\n",
    "    from IPython.display import Markdown, display\n",
    "    \n",
    "    fmt = ['---' for i in range(len(df.columns))]\n",
    "    df_fmt = pd.DataFrame([fmt], columns=df.columns)\n",
    "    df_formatted = pd.concat([df_fmt, df])\n",
    "    display(Markdown(df_formatted.to_csv(sep=\"|\", index=False)))\n",
    "\n",
    "pandas_df_to_markdown_table(df_test)"
   ]
  },
  {
   "cell_type": "code",
   "execution_count": null,
   "metadata": {},
   "outputs": [],
   "source": []
  }
 ],
 "metadata": {
  "kernelspec": {
   "display_name": "Python 3",
   "language": "python",
   "name": "python3"
  },
  "language_info": {
   "codemirror_mode": {
    "name": "ipython",
    "version": 3
   },
   "file_extension": ".py",
   "mimetype": "text/x-python",
   "name": "python",
   "nbconvert_exporter": "python",
   "pygments_lexer": "ipython3",
   "version": "3.6.5"
  }
 },
 "nbformat": 4,
 "nbformat_minor": 2
}
