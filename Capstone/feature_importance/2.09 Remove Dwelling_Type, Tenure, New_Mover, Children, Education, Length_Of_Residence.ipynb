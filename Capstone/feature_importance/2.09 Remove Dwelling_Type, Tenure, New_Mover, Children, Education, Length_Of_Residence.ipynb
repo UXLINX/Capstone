{
 "cells": [
  {
   "cell_type": "code",
   "execution_count": 1,
   "metadata": {},
   "outputs": [],
   "source": [
    "# qualify on member status active only:"
   ]
  },
  {
   "cell_type": "code",
   "execution_count": 2,
   "metadata": {},
   "outputs": [],
   "source": [
    "# import numpy and pandas\n",
    "import numpy as np\n",
    "import pandas as pd\n",
    "from sklearn.model_selection import train_test_split\n",
    "from sklearn.ensemble import RandomForestRegressor, RandomForestClassifier\n",
    "from sklearn import datasets\n",
    "from sklearn.feature_selection import SelectFromModel\n",
    "from sklearn.metrics import accuracy_score\n",
    "from sklearn.preprocessing import StandardScaler\n",
    "import seaborn as sns\n",
    "\n",
    "from sklearn.discriminant_analysis import LinearDiscriminantAnalysis as LDA\n",
    "from sklearn import metrics\n",
    "\n",
    "# used for dates\n",
    "import datetime\n",
    "from datetime import datetime, date\n",
    "\n",
    "# Set some pandas options controlling output format\n",
    "pd.set_option('display.notebook_repr_html', False)\n",
    "pd.set_option('display.max_columns', 8)\n",
    "pd.set_option('display.max_rows', 100)\n",
    "pd.set_option('display.width', 90)\n",
    "\n",
    "# bring in matplotlib for graphics\n",
    "import matplotlib.pyplot as plt\n",
    "%matplotlib inline"
   ]
  },
  {
   "cell_type": "markdown",
   "metadata": {},
   "source": [
    "### upload .png files"
   ]
  },
  {
   "cell_type": "code",
   "execution_count": 3,
   "metadata": {},
   "outputs": [],
   "source": [
    "br = '\\n'\n",
    "# upload files\n",
    "\n",
    "df = np.load('data/df.npy')\n",
    "df_features = np.load('data/features.npy')"
   ]
  },
  {
   "cell_type": "code",
   "execution_count": 4,
   "metadata": {},
   "outputs": [
    {
     "name": "stdout",
     "output_type": "stream",
     "text": [
      "['Household_Key' 'Individual_Key' 'City' 'State_Grouped' 'ZIP5' 'ZIP9'\n",
      " 'FSV_CMSI_Flag' 'FSV_Credit_Card_Flag' 'FSV_Deposit_Program_Flag'\n",
      " 'FSV_Home_Equity_Flag' 'FSV_ID_Theft_Flag' 'FSV_Mortgage_Flag'\n",
      " 'INS_Client_Flag' 'TRV_Globalware_Flag' 'Number_of_Children'\n",
      " 'Responded_to_Catalog' 'Race' 'Length_Of_Residence' 'Mail_Responder'\n",
      " 'Home_Owner' 'Income' 'Date_Of_Birth' 'Age' 'Children' 'Education'\n",
      " 'Dwelling_Type' 'Credit_Ranges' 'Language' 'Gender' 'Branch_Name'\n",
      " 'County' 'Join_AAA_Date' 'Member_Phone_Type' 'Member_Status'\n",
      " 'Member_Tenure_Years' 'Member_Type' 'Reinstate_Date' 'Renew_Method' 'ZIP'\n",
      " 'Mosaic_Household' 'Mosaic_Global_Household' 'kcl_B_IND_MosaicsGrouping'\n",
      " 'New_Mover_Flag' 'Occupation_Code' 'Occupation_Group'\n",
      " 'Right_Dwelling_Type' 'Move_Distance' 'Occupant_Type' 'Membership_Level'\n",
      " 'Roadside_Service' '_memeber_count' '_service_cnt' '_total_cost'\n",
      " '_total_products' '_ERS_ENT_Count_Year_1' '_ERS_ENT_Count_Year_2'\n",
      " '_ERS_ENT_Count_Year_3' '_ERS_Member_Cost_Year_1'\n",
      " '_ERS_Member_Cost_Year_2' '_ERS_Member_Cost_Year_3']\n"
     ]
    }
   ],
   "source": [
    "print(df_features)"
   ]
  },
  {
   "cell_type": "code",
   "execution_count": 5,
   "metadata": {},
   "outputs": [
    {
     "data": {
      "text/plain": [
       "  Household_Key Individual_Key      City State_Grouped           ...            \\\n",
       "0           875         717785  CRANSTON            RI           ...             \n",
       "1           969          19943  JOHNSTON            RI           ...             \n",
       "2          8718         199385  CRANSTON            RI           ...             \n",
       "3         11524       52285851  JOHNSTON            RI           ...             \n",
       "4         13422      170834500  COVENTRY            RI           ...             \n",
       "\n",
       "  _ERS_ENT_Count_Year_3 _ERS_Member_Cost_Year_1 _ERS_Member_Cost_Year_2  \\\n",
       "0                     9                  2118.6                  2118.6   \n",
       "1                    27                       0                  940.85   \n",
       "2                     0                       0                       0   \n",
       "3                     1                       0                       0   \n",
       "4                     0                   58.85                       0   \n",
       "\n",
       "  _ERS_Member_Cost_Year_3  \n",
       "0                 3197.57  \n",
       "1                 2710.71  \n",
       "2                       0  \n",
       "3                      53  \n",
       "4                       0  \n",
       "\n",
       "[5 rows x 60 columns]"
      ]
     },
     "execution_count": 5,
     "metadata": {},
     "output_type": "execute_result"
    }
   ],
   "source": [
    "dfv = pd.DataFrame(df, columns=df_features)\n",
    "dfv.head()"
   ]
  },
  {
   "cell_type": "code",
   "execution_count": 6,
   "metadata": {},
   "outputs": [],
   "source": [
    "dfv['Member_Status'].unique()\n",
    "df_temp = dfv[dfv['Member_Status'] == 'ACTIVE'].copy()"
   ]
  },
  {
   "cell_type": "code",
   "execution_count": 7,
   "metadata": {},
   "outputs": [],
   "source": [
    "# # select the columns from above data\n",
    "# li =  ['Home_Owner', 'Age', 'Length_Of_Residence', 'Member_Tenure_Years', \n",
    "#        'New_Mover_Flag', 'Education', 'Dwelling_Type', '_total_products']\n",
    "# li\n"
   ]
  },
  {
   "cell_type": "code",
   "execution_count": 8,
   "metadata": {},
   "outputs": [
    {
     "data": {
      "text/plain": [
       "['Home_Owner', 'Age', 'Credit_Ranges', '_total_products']"
      ]
     },
     "execution_count": 8,
     "metadata": {},
     "output_type": "execute_result"
    }
   ],
   "source": [
    "li = ['Home_Owner', 'Age', 'Credit_Ranges', '_total_products']\n",
    "li"
   ]
  },
  {
   "cell_type": "code",
   "execution_count": 9,
   "metadata": {},
   "outputs": [
    {
     "name": "stdout",
     "output_type": "stream",
     "text": [
      "subset df shape: (693, 4)  orignal df shape: (3219, 60)\n"
     ]
    }
   ],
   "source": [
    "df1= df_temp[li].copy()\n",
    "df2 = df1.dropna()\n",
    "subdf = df2.drop_duplicates()\n",
    "print(\"subset df shape:\", subdf.shape, \" orignal df shape:\", df.shape )\n"
   ]
  },
  {
   "cell_type": "code",
   "execution_count": 10,
   "metadata": {},
   "outputs": [
    {
     "name": "stdout",
     "output_type": "stream",
     "text": [
      "        Home_Owner  Age Credit_Ranges  _total_products\n",
      "count          693  693           693              693\n",
      "unique           4   71             9                7\n",
      "top     Home.Owner   75       750-799                0\n",
      "freq           615   36           156              319\n",
      "----------------------------------------------------------------------------------------------------\n",
      "Empty DataFrame\n",
      "Columns: []\n",
      "Index: [count, unique, top, freq]\n"
     ]
    }
   ],
   "source": [
    "# percentile list \n",
    "perc =[.20, .40, .60, .80] \n",
    "# list of dtypes to include \n",
    "include =['object', 'float', 'int'] \n",
    "desc = subdf.describe(percentiles = perc, include = include) \n",
    "print(desc.iloc[:,0:5])\n",
    "print(\"--\"*50)\n",
    "print(desc.iloc[:,6:11])\n"
   ]
  },
  {
   "cell_type": "markdown",
   "metadata": {},
   "source": [
    "# X,y"
   ]
  },
  {
   "cell_type": "code",
   "execution_count": 11,
   "metadata": {},
   "outputs": [],
   "source": [
    "def yes_or_no(x):\n",
    "    if x > 0:\n",
    "        return 1\n",
    "    elif x == 0:\n",
    "        return 0\n",
    "    else:\n",
    "        return np.NaN  "
   ]
  },
  {
   "cell_type": "code",
   "execution_count": 12,
   "metadata": {},
   "outputs": [
    {
     "name": "stdout",
     "output_type": "stream",
     "text": [
      "['Home_Owner', 'Age', 'Credit_Ranges']\n",
      "----------------------------------------------------------------------------------------------------\n",
      "target y: _total_products\n",
      "max y: 1\n",
      "y is [0 1 1 1 0 0 1 0 0 1 1 1 1 0 0 0 0 1 0 0 1 1 0 0 0 0 0 0 1 1 0 0 0 1 1 0 0\n",
      " 0 0 0 0 0 0 1 1 1 1 1 0 1 0 1 0 1 1 0 1 0 1 1 0 0 1 0 1 0 0 1 0 1 0 1 0 1\n",
      " 0 1 1 1 1 1 0 1 0 1 1 1 0 0 0 0 1 1 1 0 0 0 0 1 1 0 0 0 1 1 0 0 0 1 0 1 1\n",
      " 0 0 1 0 0 0 0 0 0 1 1 0 0 1 0 0 0 0 0 0 0 0 1 1 1 1 1 1 0 1 0 0 0 0 0 1 1\n",
      " 0 1 0 0 0 0 0 1 1 1 1 0 0 0 0 0 0 0 0 0 0 0 0 1 0 1 1 0 1 0 1 1 0 1 0 0 1\n",
      " 0 1 1 1 1 1 1 1 1 1 0 0 1 0 0 0 1 1 1 1 1 0 1 0 0 1 1 1 1 0 1 1 0 0 1 1 0\n",
      " 0 0 1 0 1 1 0 1 0 0 0 1 1 1 1 0 0 1 0 0 0 1 0 1 0 1 1 0 0 0 0 0 0 0 1 1 1\n",
      " 1 1 0 0 1 0 1 1 1 0 1 1 1 0 1 1 1 0 0 0 0 0 1 1 0 0 0 1 0 1 0 0 1 1 0 0 0\n",
      " 0 1 0 0 1 1 1 1 1 1 0 0 0 1 0 1 0 0 0 1 1 1 1 1 1 1 0 1 0 1 0 0 0 1 1 0 0\n",
      " 0 1 0 1 1 1 0 1 0 1 0 1 1 0 0 1 1 1 1 0 0 1 1 0 1 1 1 1 0 0 0 0 1 1 1 1 1\n",
      " 1 0 1 1 1 1 1 1 1 0 1 1 1 1 1 0 0 1 1 0 0 1 1 0 0 1 0 0 0 0 1 0 0 1 0 0 1\n",
      " 1 1 1 1 1 1 1 0 1 1 0 0 0 0 0 0 1 1 1 0 1 1 1 1 0 1 0 1 1 0 1 1 0 0 1 0 0\n",
      " 0 1 1 1 0 1 1 1 0 1 0 0 1 0 0 1 0 0 1 1 1 0 0 1 1 0 0 1 1 1 0 1 1 0 1 0 0\n",
      " 1 1 0 1 1 1 1 1 1 0 1 1 0 1 1 0 0 1 0 1 0 0 1 0 1 0 1 1 1 0 0 1 1 1 0 0 1\n",
      " 1 1 0 1 1 0 0 1 1 1 0 0 0 1 1 1 1 1 1 1 0 1 1 1 0 1 1 1 1 0 1 1 1 0 1 0 0\n",
      " 1 1 0 1 0 0 1 1 1 0 1 0 0 1 0 0 0 0 0 1 0 0 1 1 1 1 0 0 1 0 0 1 1 0 1 0 0\n",
      " 1 1 1 1 1 0 1 1 0 1 0 0 0 0 1 0 0 0 0 1 1 1 1 1 0 1 1 1 0 1 1 1 1 1 0 1 1\n",
      " 1 1 0 0 1 1 0 0 1 1 1 1 1 0 0 1 1 0 1 1 0 1 1 1 0 0 1 0 0 1 1 1 1 1 1 1 1\n",
      " 0 1 0 1 0 1 1 1 1 1 0 0 1 0 1 1 1 1 0 0 1 1 1 1 0 1 1]\n",
      "   Home_Owner Age Credit_Ranges\n",
      "1  Home.Owner  77          800+\n",
      "2  Home.Owner  68          800+\n",
      "3  Home.Owner  76       700-749\n",
      "4  Home.Owner  70       650-699\n",
      "5  Home.Owner  95       700-749\n"
     ]
    }
   ],
   "source": [
    "# data_X\n",
    "select_col = li[:-1]\n",
    "print(select_col)\n",
    "print(\"--\"*50)\n",
    "y_col = li[-1]\n",
    "print(\"target y:\", y_col)\n",
    "\n",
    "#split the dataset to X & y:\n",
    "X = subdf.drop([y_col], axis=1).values\n",
    "fix_y = subdf[y_col].apply(yes_or_no)\n",
    "#fix_y = subdf[y_col].copy()\n",
    "print(\"max y:\", fix_y.max())\n",
    "y = fix_y.values\n",
    "print(\"y is\", y)\n",
    "\n",
    "# data_X contains only X\n",
    "data_X = subdf[select_col].copy()\n",
    "print(data_X.head())"
   ]
  },
  {
   "cell_type": "markdown",
   "metadata": {},
   "source": [
    "### Machine Learning algorithms only operate on numberical data"
   ]
  },
  {
   "cell_type": "code",
   "execution_count": 13,
   "metadata": {},
   "outputs": [
    {
     "data": {
      "text/plain": [
       "Home_Owner       Home.Owner\n",
       "Age                      69\n",
       "Credit_Ranges       750-799\n",
       "Name: 77, dtype: object"
      ]
     },
     "execution_count": 13,
     "metadata": {},
     "output_type": "execute_result"
    }
   ],
   "source": [
    "subdf[select_col].iloc[50]"
   ]
  },
  {
   "cell_type": "markdown",
   "metadata": {},
   "source": [
    "### Encoding"
   ]
  },
  {
   "cell_type": "code",
   "execution_count": 14,
   "metadata": {},
   "outputs": [
    {
     "name": "stdout",
     "output_type": "stream",
     "text": [
      "selected columns: ['Home_Owner', 'Credit_Ranges']\n"
     ]
    },
    {
     "data": {
      "text/plain": [
       "Index(['Age', 'Home_Owner_Home.Owner', 'Home_Owner_Probable.Home.Owner',\n",
       "       'Home_Owner_Probable.Renter', 'Home_Owner_Renter', 'Credit_Ranges_499.Less',\n",
       "       'Credit_Ranges_500-549', 'Credit_Ranges_550-599', 'Credit_Ranges_600-649',\n",
       "       'Credit_Ranges_650-699', 'Credit_Ranges_700-749', 'Credit_Ranges_750-799',\n",
       "       'Credit_Ranges_800+', 'Credit_Ranges_Unknown'],\n",
       "      dtype='object')"
      ]
     },
     "execution_count": 14,
     "metadata": {},
     "output_type": "execute_result"
    }
   ],
   "source": [
    "# columns numbers only \n",
    "#data_X['Member_Tenure_Years'].astype(int)\n",
    "cat_vars = ['Home_Owner','Credit_Ranges']\n",
    "print(\"selected columns:\", cat_vars)\n",
    "\n",
    "data_new = pd.get_dummies(data_X, columns=cat_vars)\n",
    "data_new.columns\n",
    "#print(\"features: \\n\", list(data_new))"
   ]
  },
  {
   "cell_type": "code",
   "execution_count": 15,
   "metadata": {},
   "outputs": [
    {
     "name": "stdout",
     "output_type": "stream",
     "text": [
      "(693, 14) (693,)\n",
      "----------------------------------------------------------------------------------------------------\n",
      "X attributes: \n",
      " ['Home_Owner', 'Age', 'Credit_Ranges']\n",
      "----------------------------------------------------------------------------------------------------\n",
      "  Age  Home_Owner_Home.Owner  Home_Owner_Probable.Home.Owner  \\\n",
      "1  77                      1                               0   \n",
      "2  68                      1                               0   \n",
      "3  76                      1                               0   \n",
      "4  70                      1                               0   \n",
      "5  95                      1                               0   \n",
      "\n",
      "   Home_Owner_Probable.Renter          ...            Credit_Ranges_700-749  \\\n",
      "1                           0          ...                                0   \n",
      "2                           0          ...                                0   \n",
      "3                           0          ...                                1   \n",
      "4                           0          ...                                0   \n",
      "5                           0          ...                                1   \n",
      "\n",
      "   Credit_Ranges_750-799  Credit_Ranges_800+  Credit_Ranges_Unknown  \n",
      "1                      0                   1                      0  \n",
      "2                      0                   1                      0  \n",
      "3                      0                   0                      0  \n",
      "4                      0                   0                      0  \n",
      "5                      0                   0                      0  \n",
      "\n",
      "[5 rows x 14 columns]\n"
     ]
    }
   ],
   "source": [
    "X = data_new\n",
    "y = y\n",
    "print(X.shape, y.shape)\n",
    "print(\"--\"*50)\n",
    "attributes = list(data_X)\n",
    "print(\"X attributes: \\n\", attributes)\n",
    "print(\"--\"*50)\n",
    "print(X.head())"
   ]
  },
  {
   "cell_type": "code",
   "execution_count": 16,
   "metadata": {},
   "outputs": [
    {
     "data": {
      "text/plain": [
       "            cols       imp\n",
       "0     Home_Owner  0.851234\n",
       "1            Age  0.014493\n",
       "2  Credit_Ranges  0.001898"
      ]
     },
     "execution_count": 16,
     "metadata": {},
     "output_type": "execute_result"
    }
   ],
   "source": [
    "# Random Forest Classifier\n",
    "rf = RandomForestClassifier(random_state=0,n_estimators=100)\n",
    "# Train the classifier\n",
    "rf.fit(X,y)\n",
    "# Print the name and gini importance of each feature\n",
    "feat_labels = attributes\n",
    "feat_list=[]\n",
    "for feature in zip(feat_labels, rf.feature_importances_):\n",
    "    feat_list.append(feature)\n",
    "\n",
    "feat_list.sort(key=lambda x:x[1], reverse=True) #To sort by first element of the tuple   \n",
    "ds = pd.DataFrame(feat_list)\n",
    "ds.columns =[['cols','imp']]\n",
    "ds"
   ]
  },
  {
   "cell_type": "code",
   "execution_count": 17,
   "metadata": {},
   "outputs": [
    {
     "data": {
      "text/plain": [
       "[('cols',)]"
      ]
     },
     "execution_count": 17,
     "metadata": {},
     "output_type": "execute_result"
    }
   ],
   "source": [
    "cols=list(ds['cols'])\n",
    "cols.reverse()\n",
    "\n",
    "imp=list(ds['imp'])\n",
    "imp.reverse()\n",
    "\n",
    "cols"
   ]
  },
  {
   "cell_type": "code",
   "execution_count": 18,
   "metadata": {},
   "outputs": [
    {
     "name": "stdout",
     "output_type": "stream",
     "text": [
      "columns: ['Home_Owner', 'Age', 'Credit_Ranges']\n",
      "Importance [0.8512339579282698, 0.014493230880520975, 0.0018975343324868668]\n"
     ]
    }
   ],
   "source": [
    "fields = []\n",
    "importance = []\n",
    "cols = ds['cols'].copy()\n",
    "imp = ds['imp'].copy()\n",
    "\n",
    "l = ds.shape[0]\n",
    "for r in range(l):\n",
    "    c =(cols.iloc[r].values).tolist()\n",
    "    i =(imp.iloc[r].values.astype(str)).tolist()\n",
    "    \n",
    "    # convert list to string\n",
    "    strc = ''.join(c)\n",
    "    stri = ''.join(i)    \n",
    "\n",
    "    fields.append(strc)\n",
    "    importance.append(float(stri))\n",
    "    \n",
    "print(\"columns:\", fields)\n",
    "print(\"Importance\", importance)"
   ]
  },
  {
   "cell_type": "code",
   "execution_count": 19,
   "metadata": {},
   "outputs": [
    {
     "data": {
      "image/png": "[encoded data removed]",
      "text/plain": [
       "<Figure size 432x288 with 1 Axes>"
      ]
     },
     "metadata": {},
     "output_type": "display_data"
    }
   ],
   "source": [
    "\n",
    "plt.barh(fields, importance)\n",
    "\n",
    "plt.title(\"Feature Importance\")\n",
    "# plt.ylabel(\"Programming Languages\")\n",
    "plt.xlabel(\"Gini Index\")\n",
    "\n",
    "plt.tight_layout()\n",
    "\n",
    "plt.show()\n"
   ]
  },
  {
   "cell_type": "code",
   "execution_count": null,
   "metadata": {},
   "outputs": [],
   "source": []
  },
  {
   "cell_type": "code",
   "execution_count": 20,
   "metadata": {},
   "outputs": [
    {
     "data": {
      "image/png": "[encoded data removed]",
      "text/plain": [
       "<Figure size 432x288 with 1 Axes>"
      ]
     },
     "metadata": {},
     "output_type": "display_data"
    },
    {
     "name": "stdout",
     "output_type": "stream",
     "text": [
      "Train Mean: 0.772718082044799\n",
      "Test Mean: 0.45575331315700923\n"
     ]
    }
   ],
   "source": [
    "# Load libraries\n",
    "import matplotlib.pyplot as plt\n",
    "import numpy as np\n",
    "from sklearn.datasets import load_digits\n",
    "from sklearn.ensemble import RandomForestClassifier\n",
    "from sklearn.model_selection import validation_curve\n",
    "\n",
    "\n",
    "# Create range of values for parameter\n",
    "param_range = np.arange(1, 50, 1)\n",
    "\n",
    "# Calculate accuracy on training and test set using range of parameter values\n",
    "train_scores, test_scores = validation_curve(RandomForestClassifier(), \n",
    "                                             X, \n",
    "                                             y, \n",
    "                                             param_name=\"n_estimators\", \n",
    "                                             param_range=param_range,\n",
    "                                             cv=3, \n",
    "                                             scoring=\"accuracy\", \n",
    "                                             n_jobs=-1)\n",
    "\n",
    "\n",
    "\n",
    "# Calculate mean and standard deviation for training set scores\n",
    "train_mean = np.mean(train_scores, axis=1)\n",
    "train_std = np.std(train_scores, axis=1)\n",
    "\n",
    "# Calculate mean and standard deviation for test set scores\n",
    "test_mean = np.mean(test_scores, axis=1)\n",
    "test_std = np.std(test_scores, axis=1)\n",
    "\n",
    "# Plot mean accuracy scores for training and test sets\n",
    "plt.plot(param_range, train_mean, label=\"Training score\", color=\"black\")\n",
    "plt.plot(param_range, test_mean, label=\"Cross-validation score\", color=\"dimgrey\")\n",
    "\n",
    "# Plot accurancy bands for training and test sets\n",
    "plt.fill_between(param_range, train_mean - train_std, train_mean + train_std, color=\"gray\")\n",
    "plt.fill_between(param_range, test_mean - test_std, test_mean + test_std, color=\"gainsboro\")\n",
    "\n",
    "# Create plot\n",
    "plt.title(\"Validation Curve With Random Forest\")\n",
    "plt.xlabel(\"Number Of Trees\")\n",
    "plt.ylabel(\"Accuracy Score\")\n",
    "plt.tight_layout()\n",
    "plt.legend(loc=\"best\")\n",
    "plt.show()\n",
    "\n",
    "print(\"Train Mean:\", train_mean.mean())\n",
    "print(\"Test Mean:\", test_mean.mean())"
   ]
  },
  {
   "cell_type": "code",
   "execution_count": null,
   "metadata": {},
   "outputs": [],
   "source": []
  }
 ],
 "metadata": {
  "kernelspec": {
   "display_name": "Python 3",
   "language": "python",
   "name": "python3"
  },
  "language_info": {
   "codemirror_mode": {
    "name": "ipython",
    "version": 3
   },
   "file_extension": ".py",
   "mimetype": "text/x-python",
   "name": "python",
   "nbconvert_exporter": "python",
   "pygments_lexer": "ipython3",
   "version": "3.6.5"
  }
 },
 "nbformat": 4,
 "nbformat_minor": 2
}
