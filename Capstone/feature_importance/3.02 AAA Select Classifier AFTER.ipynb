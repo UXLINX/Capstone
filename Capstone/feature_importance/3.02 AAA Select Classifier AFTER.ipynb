{
 "cells": [
  {
   "cell_type": "code",
   "execution_count": 10,
   "metadata": {},
   "outputs": [],
   "source": [
    "import numpy as np, pandas as pd, random\n",
    "from sklearn.model_selection import train_test_split\n",
    "from sklearn.preprocessing import StandardScaler\n",
    "from sklearn.ensemble import RandomForestClassifier,\\\n",
    "     ExtraTreesClassifier\n",
    "from sklearn.svm import SVC\n",
    "from sklearn.neighbors import KNeighborsClassifier\n",
    "from sklearn.metrics import f1_score\n",
    "from sklearn.metrics import confusion_matrix\n",
    "\n",
    "import matplotlib.pyplot as plt\n",
    "import seaborn as sns\n",
    "\n",
    "\n",
    "def get_scores(model, xtrain, ytrain, xtest, ytest, scoring):\n",
    "    ypred = model.predict(xtest)\n",
    "    train = model.score(xtrain, ytrain)\n",
    "    test = model.score(xtest, y_test)\n",
    "    f1 = f1_score(ytest, ypred, average=scoring)\n",
    "    return (train, test, f1)\n",
    "\n",
    "def prep_data(data, target):\n",
    "    d = [data[i] for i, _ in enumerate(data)]\n",
    "    t = [target[i] for i, _ in enumerate(target)]\n",
    "    return list(zip(d, t))\n",
    "\n",
    "def create_sample(d, n, replace='yes'):\n",
    "    if replace == 'yes': s = random.sample(d, n)\n",
    "    else: s = [random.choice(d)\n",
    "               for i, _ in enumerate(d) if i < n]\n",
    "    Xs = [row[0] for i, row in enumerate(s)]\n",
    "    ys = [row[1] for i, row in enumerate(s)]\n",
    "    return np.array(Xs), np.array(ys)\n"
   ]
  },
  {
   "cell_type": "code",
   "execution_count": 11,
   "metadata": {},
   "outputs": [],
   "source": [
    "# numpy.load() function return the input array from a disk file with npy extension(.npy)."
   ]
  },
  {
   "cell_type": "code",
   "execution_count": 12,
   "metadata": {},
   "outputs": [
    {
     "name": "stdout",
     "output_type": "stream",
     "text": [
      "full data set shape for X and y:\n",
      "(1452, 15) (1452,) \n",
      "\n",
      "ExtraTreesClassifier(train, test, f1_score):\n",
      "(0.8466483011937558, 0.4049586776859504, 0.4049586776859504) \n",
      "\n"
     ]
    }
   ],
   "source": [
    "if __name__ == \"__main__\":\n",
    "    br = '\\n'\n",
    "    \n",
    "    # the files below had applied get_dummies funciton\n",
    "    X = np.load('data/X_after.npy')\n",
    "    # need allow_pickle=True parameter\n",
    "    y = np.load('data/y_after.npy', allow_pickle=True)\n",
    "    \n",
    "    \n",
    "    print ('full data set shape for X and y:')\n",
    "    print (X.shape, y.shape, br)\n",
    "    X_train, X_test, y_train, y_test = train_test_split\\\n",
    "                                       (X, y, random_state=0)\n",
    "    et = ExtraTreesClassifier(random_state=0, n_estimators=100)\n",
    "    et.fit(X_train, y_train)\n",
    "    et_scores = get_scores(et, X_train, y_train,\n",
    "                           X_test, y_test, 'micro')\n",
    "    print (et.__class__.__name__ + '(train, test, f1_score):')\n",
    "    print (et_scores, br)"
   ]
  },
  {
   "cell_type": "code",
   "execution_count": 13,
   "metadata": {},
   "outputs": [
    {
     "name": "stdout",
     "output_type": "stream",
     "text": [
      "RandomForestClassifier(train, test, f1_score):\n",
      "(0.8466483011937558, 0.4573002754820937, 0.4573002754820937) \n",
      "\n"
     ]
    }
   ],
   "source": [
    "if __name__ == \"__main__\":\n",
    "\n",
    "    rf = RandomForestClassifier(random_state=0, n_estimators=100)\n",
    "    rf.fit(X_train, y_train)\n",
    "    rf_scores = get_scores(rf, X_train, y_train,\n",
    "                           X_test, y_test, 'micro')\n",
    "    print (rf.__class__.__name__ + '(train, test, f1_score):')\n",
    "    print (rf_scores, br)\n",
    "    "
   ]
  },
  {
   "cell_type": "code",
   "execution_count": null,
   "metadata": {},
   "outputs": [],
   "source": []
  },
  {
   "cell_type": "code",
   "execution_count": 14,
   "metadata": {},
   "outputs": [
    {
     "name": "stdout",
     "output_type": "stream",
     "text": [
      "sample data set shape for X and y:\n",
      "(1452, 15) (1452,) \n",
      "\n",
      "KNeighborsClassifier(train, test, f1_score):\n",
      "(0.7493112947658402, 0.5674931129476584, 0.5674931129476584) \n",
      "\n"
     ]
    },
    {
     "name": "stderr",
     "output_type": "stream",
     "text": [
      "C:\\Users\\813763539\\AppData\\Roaming\\Python\\Python36\\site-packages\\sklearn\\utils\\validation.py:595: DataConversionWarning: Data with input dtype object was converted to float64 by StandardScaler.\n",
      "  warnings.warn(msg, DataConversionWarning)\n",
      "C:\\Users\\813763539\\AppData\\Roaming\\Python\\Python36\\site-packages\\sklearn\\utils\\validation.py:595: DataConversionWarning: Data with input dtype object was converted to float64 by StandardScaler.\n",
      "  warnings.warn(msg, DataConversionWarning)\n",
      "C:\\Users\\813763539\\AppData\\Roaming\\Python\\Python36\\site-packages\\sklearn\\utils\\validation.py:595: DataConversionWarning: Data with input dtype object was converted to float64 by StandardScaler.\n",
      "  warnings.warn(msg, DataConversionWarning)\n"
     ]
    }
   ],
   "source": [
    "if __name__ == \"__main__\":\n",
    "\n",
    "    sample_size = 2000\n",
    "    data = prep_data(X, y)\n",
    "    Xs, ys = create_sample(data, sample_size, replace='no')\n",
    "    print ('sample data set shape for X and y:')\n",
    "    print (Xs.shape, ys.shape, br)\n",
    "    \n",
    "    X_train, X_test, y_train, y_test = train_test_split(Xs, ys, random_state=0)\n",
    "    scaler = StandardScaler().fit(X_train)\n",
    "    X_train_std, X_test_std = scaler.transform(X_train),scaler.transform(X_test)\n",
    "    knn = KNeighborsClassifier().fit(X_train, y_train)\n",
    "    knn_scores = get_scores(knn, X_train, y_train,X_test, y_test, 'micro')\n",
    "    print (knn.__class__.__name__ + '(train, test, f1_score):')\n",
    "    print (knn_scores, br)"
   ]
  },
  {
   "cell_type": "code",
   "execution_count": 15,
   "metadata": {},
   "outputs": [
    {
     "name": "stdout",
     "output_type": "stream",
     "text": [
      "SVC(train, test, f1_score):\n",
      "(0.6088154269972452, 0.6170798898071626, 0.6170798898071626) \n",
      "\n"
     ]
    },
    {
     "name": "stderr",
     "output_type": "stream",
     "text": [
      "C:\\Users\\813763539\\AppData\\Roaming\\Python\\Python36\\site-packages\\sklearn\\svm\\base.py:196: FutureWarning: The default value of gamma will change from 'auto' to 'scale' in version 0.22 to account better for unscaled features. Set gamma explicitly to 'auto' or 'scale' to avoid this warning.\n",
      "  \"avoid this warning.\", FutureWarning)\n"
     ]
    }
   ],
   "source": [
    "if __name__ == \"__main__\":\n",
    "    svm = SVC(random_state=0)\n",
    "    svm.fit(X_train_std, y_train)\n",
    "    svm_scores = get_scores(svm, X_train_std, y_train,\n",
    "                            X_test_std, y_test, 'micro')\n",
    "    print(svm.__class__.__name__ + '(train, test, f1_score):')\n",
    "    print(svm_scores, br)"
   ]
  },
  {
   "cell_type": "code",
   "execution_count": 16,
   "metadata": {},
   "outputs": [],
   "source": [
    "# Color Palette\n",
    "# https://matplotlib.org/tutorials/colors/colormaps.html"
   ]
  },
  {
   "cell_type": "code",
   "execution_count": 19,
   "metadata": {},
   "outputs": [
    {
     "name": "stdout",
     "output_type": "stream",
     "text": [
      "true => no: 0, yes: 0 \n",
      "\n",
      "knn classification report:\n",
      "predict 'no': 121 (71 misclassifed)\n",
      "predict 'yes': 85 (86 misclassifed) \n",
      "\n",
      "svm classification report:\n",
      "predict 'no': 151 (83 misclassifed)\n",
      "predict 'yes': 73 (56 misclassifed)\n",
      "rf classification report:\n",
      "predict 'no': 146 (40 misclassifed)\n",
      "predict 'yes': 116 (61 misclassifed) \n",
      "\n"
     ]
    },
    {
     "data": {
      "image/png": "[encoded data removed]",
      "text/plain": [
       "<Figure size 432x288 with 1 Axes>"
      ]
     },
     "metadata": {},
     "output_type": "display_data"
    },
    {
     "data": {
      "image/png": "[encoded data removed]",
      "text/plain": [
       "<Figure size 432x288 with 1 Axes>"
      ]
     },
     "metadata": {},
     "output_type": "display_data"
    },
    {
     "data": {
      "image/png": "[encoded data removed]",
      "text/plain": [
       "<Figure size 432x288 with 1 Axes>"
      ]
     },
     "metadata": {},
     "output_type": "display_data"
    }
   ],
   "source": [
    "if __name__ == \"__main__\":\n",
    "\n",
    "\n",
    "    knn_name, svm_name, rf_name = knn.__class__.__name__,\\\n",
    "                         svm.__class__.__name__,\\\n",
    "                         rf.__class__.__name__ \n",
    "    \n",
    "    y_pred_knn = knn.predict(X_test)\n",
    "    cm_knn = confusion_matrix(y_test, y_pred_knn)\n",
    "    cm_knn_T = cm_knn.T\n",
    "    \n",
    "    y_pred_svm = svm.predict(X_test_std)\n",
    "    cm_svm = confusion_matrix(y_test, y_pred_svm)\n",
    "    cm_svm_T = cm_svm.T\n",
    "    \n",
    "    y_pred_rf = rf.predict(X_test)\n",
    "    cm_rf = confusion_matrix(y_test, y_pred_rf)\n",
    "    cm_rf_T = cm_rf.T\n",
    "    \n",
    "    plt.figure(knn.__class__.__name__)\n",
    "    ax = plt.axes()\n",
    "    sns.heatmap(cm_knn_T, annot=True, fmt=\"d\",\n",
    "                cmap='Blues', cbar=False)\n",
    "    ax.set_title(str(knn_name) + ' confusion matrix')\n",
    "    plt.xlabel('true label')\n",
    "    plt.ylabel('predicted label')\n",
    "    \n",
    "    root = 'data/dst'\n",
    "    plt.savefig(root + '/' + 'knn_cm_after.png')\n",
    "\n",
    "    \n",
    "    \n",
    "    plt.figure(str(svm_name) + ' confusion matrix' )\n",
    "    ax = plt.axes()\n",
    "    sns.heatmap(cm_svm_T, annot=True, fmt=\"d\",\n",
    "                cmap='Blues', cbar=False)      \n",
    "    ax.set_title(svm_name)\n",
    "    plt.xlabel('true label')\n",
    "    plt.ylabel('predicted label')\n",
    "    \n",
    "    root = 'data/dst'\n",
    "    plt.savefig(root + '/' + 'svm_cm_after.png')\n",
    "\n",
    "    \n",
    "    \n",
    "    plt.figure(rf.__class__.__name__)\n",
    "    ax = plt.axes()\n",
    "    sns.heatmap(cm_rf_T, annot=True, fmt=\"d\",\n",
    "                cmap='Blues', cbar=False)\n",
    "    ax.set_title('(After) '+ str(rf_name) + ' confusion matrix')\n",
    "    plt.xlabel('true label')\n",
    "    plt.ylabel('predicted label')\n",
    "    \n",
    "    root = 'data/dst'\n",
    "    plt.savefig(root + '/' + 'rf_cm_after.png')\n",
    "    \n",
    "    \n",
    "    cnt_no, cnt_yes = 0, 0\n",
    "    for i, row in enumerate(y_test):\n",
    "        if row == 'no': cnt_no += 1\n",
    "        elif row == 'yes': cnt_yes += 1\n",
    "            \n",
    "    cnt_no, cnt_yes = str(cnt_no), str(cnt_yes)\n",
    "    print ('true =>', 'no: ' + cnt_no + ', yes: ' + cnt_yes, br)\n",
    "    \n",
    "    p_no, p_nox = cm_knn_T[0][0], cm_knn_T[0][1]\n",
    "    p_yes, p_yesx = cm_knn_T[1][1], cm_knn_T[1][0]\n",
    "    print ('knn classification report:')\n",
    "    print ('predict \\'no\\':', p_no, '(' +\\\n",
    "           str(p_nox) + ' misclassified)')\n",
    "    print ('predict \\'yes\\':', p_yes, '(' +\\\n",
    "           str(p_yesx) + ' misclassified)', br)\n",
    "    \n",
    "    p_no, p_nox = cm_svm_T[0][0], cm_svm_T[0][1]\n",
    "    p_yes, p_yesx = cm_svm_T[1][1], cm_svm_T[1][0]\n",
    "    print ('svm classification report:')\n",
    "    print ('predict \\'no\\':', p_no, '(' +\\\n",
    "           str(p_nox) + ' misclassified)')\n",
    "    print ('predict \\'yes\\':', p_yes, '(' +\\\n",
    "           str(p_yesx) + ' misclassified)')    \n",
    "    \n",
    "    \n",
    "    p_no, p_nox = cm_rf_T[0][0], cm_rf_T[0][1]\n",
    "    p_yes, p_yesx = cm_rf_T[1][1], cm_rf_T[1][0]\n",
    "    print ('rf classification report:')\n",
    "    print ('predict \\'no\\':', p_no, '(' +\\\n",
    "           str(p_nox) + ' misclassified)')\n",
    "    print ('predict \\'yes\\':', p_yes, '(' +\\\n",
    "           str(p_yesx) + ' misclassified)', br)\n",
    "    \n",
    "    \n",
    "    \n",
    "    plt.show()"
   ]
  },
  {
   "cell_type": "code",
   "execution_count": 18,
   "metadata": {},
   "outputs": [
    {
     "name": "stdout",
     "output_type": "stream",
     "text": [
      "ExtraTreesClassifier(train, test, f1_score):\n",
      "(0.8466483011937558, 0.4049586776859504, 0.4049586776859504) \n",
      "\n",
      "RandomForestClassifier(train, test, f1_score):\n",
      "(0.8466483011937558, 0.4573002754820937, 0.4573002754820937) \n",
      "\n",
      "KNeighborsClassifier(train, test, f1_score):\n",
      "(0.7493112947658402, 0.5674931129476584, 0.5674931129476584) \n",
      "\n"
     ]
    }
   ],
   "source": [
    "print (et.__class__.__name__ + '(train, test, f1_score):')\n",
    "print (et_scores, br)\n",
    "print (rf.__class__.__name__ + '(train, test, f1_score):')\n",
    "print (rf_scores, br)\n",
    "print (knn.__class__.__name__ + '(train, test, f1_score):')\n",
    "print (knn_scores, br)    "
   ]
  },
  {
   "cell_type": "code",
   "execution_count": null,
   "metadata": {},
   "outputs": [],
   "source": []
  }
 ],
 "metadata": {
  "kernelspec": {
   "display_name": "Python 3",
   "language": "python",
   "name": "python3"
  },
  "language_info": {
   "codemirror_mode": {
    "name": "ipython",
    "version": 3
   },
   "file_extension": ".py",
   "mimetype": "text/x-python",
   "name": "python",
   "nbconvert_exporter": "python",
   "pygments_lexer": "ipython3",
   "version": "3.6.5"
  }
 },
 "nbformat": 4,
 "nbformat_minor": 2
}
